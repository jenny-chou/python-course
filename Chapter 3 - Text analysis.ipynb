{
 "cells": [
  {
   "cell_type": "markdown",
   "metadata": {},
   "source": [
    "# Chapter 3: Text Analysis"
   ]
  },
  {
   "cell_type": "markdown",
   "metadata": {},
   "source": [
    "-- *A Python Course for the Humanities by Folgert Karsdorp and Maarten van Gompel*"
   ]
  },
  {
   "cell_type": "markdown",
   "metadata": {},
   "source": [
    "---"
   ]
  },
  {
   "cell_type": "markdown",
   "metadata": {},
   "source": [
    "In this chapter we will introduce you to the task of text analysis in Python. You will learn how to read an entire corpus into Python, clean it and how to perform certain data analyses on those texts. We will also briefly introduce you to using Python's plotting library *matplotlib*, with which you can visualize your data.\n",
    "\n",
    "Before we delve into the main subject of this chapter, text analysis, we will first write a couple of utility functions that build upon the things you learnt in the previous chapter. Often we don't work with a single text file stored at our computer, but with multiple text files or entire corpora. We would like to have a way to load a corpus into Python.\n",
    "\n",
    "Remember how to read files? Each time we had to open a file, read the contents and then close the file. Since this is a series of steps we will often need to do, we can write a single function that does all that for us. We write a small utility function `read_file(filename)` that reads the specified file and simply returns all contents as a single string."
   ]
  },
  {
   "cell_type": "code",
   "execution_count": 1,
   "metadata": {},
   "outputs": [],
   "source": [
    "def read_file(filename):\n",
    "    \"Read the contents of FILENAME and return as a string.\"\n",
    "    infile = open(filename) # windows users should use codecs.open after importing codecs\n",
    "    contents = infile.read()\n",
    "    infile.close()\n",
    "    return contents"
   ]
  },
  {
   "cell_type": "markdown",
   "metadata": {},
   "source": [
    "Now, instead of having to open a file, read the contents and close the file, we can just call the function `read_file` to do all that:"
   ]
  },
  {
   "cell_type": "code",
   "execution_count": 2,
   "metadata": {},
   "outputs": [
    {
     "name": "stdout",
     "output_type": "stream",
     "text": [
      "Emma by Jane Austen 1816\n",
      "\n",
      "VOLUME I\n",
      "\n",
      "CHAPTER I\n",
      "\n",
      "\n",
      "Emma Woodhouse, handsome, clever, and rich, with a comfortable home\n",
      "and happy disposition, seemed to unite some of the best blessings\n",
      "of existence; and had lived nearly twenty-one years in the world\n",
      "with very little to distress or vex her.\n",
      "\n",
      "She was the youngest of the two daughters of a most affectionate,\n",
      "indulgent father; and had, in consequence of her sister's marriage,\n",
      "been mistress of his house from a very early period.  Her mother\n",
      "had died too long ago for her to have more than an indistinct\n",
      "remembrance of her caresses; and her place had been supplied\n",
      "by an excellent woman as governess, who had fallen little short\n",
      "of a mother in affection.\n"
     ]
    }
   ],
   "source": [
    "text = read_file(\"data/austen-emma-excerpt.txt\")\n",
    "print(text)"
   ]
  },
  {
   "cell_type": "markdown",
   "metadata": {},
   "source": [
    "In the directory `data/gutenberg/training` we have a corpus consisting of multiple files with the extension `.txt`. This corpus is a collection of English novels which we downloaded for you from the [Gutenberg](http://www.gutenberg.org) project. We want to iterate over all these files. You can do this using the `listdir` function from the `os` module. We import this function as follows:"
   ]
  },
  {
   "cell_type": "code",
   "execution_count": 3,
   "metadata": {},
   "outputs": [],
   "source": [
    "from os import listdir"
   ]
  },
  {
   "cell_type": "markdown",
   "metadata": {},
   "source": [
    "After that, the `listdir` function is available to use. This function takes as argument the path to a directory and returns all the files and subdirectories present in that directory:"
   ]
  },
  {
   "cell_type": "code",
   "execution_count": 4,
   "metadata": {},
   "outputs": [
    {
     "data": {
      "text/plain": [
       "['arabian_nights',\n",
       " 'austen-emma-excerpt-tokenised.txt',\n",
       " 'austen-emma-excerpt.txt',\n",
       " 'austen-emma-frequency-distribution.txt',\n",
       " 'austen-emma.txt',\n",
       " 'austen-frequency-distribution.txt',\n",
       " 'british-novels',\n",
       " 'gutenberg',\n",
       " 'haggard',\n",
       " 'names',\n",
       " 'twitter.txt']"
      ]
     },
     "execution_count": 4,
     "metadata": {},
     "output_type": "execute_result"
    }
   ],
   "source": [
    "listdir(\"data\")"
   ]
  },
  {
   "cell_type": "markdown",
   "metadata": {},
   "source": [
    "Notice that `listdir` returns a list and we can iterate over that list. Now, consider the following function:"
   ]
  },
  {
   "cell_type": "code",
   "execution_count": 5,
   "metadata": {},
   "outputs": [],
   "source": [
    "def list_textfiles(directory):\n",
    "    \"Return a list of filenames ending in '.txt' in DIRECTORY.\"\n",
    "    textfiles = []\n",
    "    for filename in listdir(directory):\n",
    "        if filename.endswith(\".txt\"):\n",
    "            textfiles.append(directory + \"/\" + filename)\n",
    "    return textfiles"
   ]
  },
  {
   "cell_type": "markdown",
   "metadata": {},
   "source": [
    "The function `listdir` takes as argument the name of a directory and lists all filenames in that directory. We iterate over this list and append each filename that ends with the extension, `.txt` to a new list of `textfiles`. Using the `list_textfiles` function, the following code will read all text files in the directory `data/gutenberg/training` and outputs the length (in characters) of each:"
   ]
  },
  {
   "cell_type": "code",
   "execution_count": 7,
   "metadata": {},
   "outputs": [
    {
     "name": "stdout",
     "output_type": "stream",
     "text": [
      "data/gutenberg/training/austen-emma.txt has 887071 characters.\n",
      "data/gutenberg/training/austen-pride.txt has 684765 characters.\n",
      "data/gutenberg/training/austen-sense.txt has 673022 characters.\n",
      "data/gutenberg/training/blake-poems.txt has 38153 characters.\n",
      "data/gutenberg/training/bryant-stories.txt has 243901 characters.\n",
      "data/gutenberg/training/burgess-busterbrown.txt has 82992 characters.\n",
      "data/gutenberg/training/carroll-alice.txt has 144395 characters.\n",
      "data/gutenberg/training/chesterton-ball.txt has 457455 characters.\n",
      "data/gutenberg/training/chesterton-thursday.txt has 320525 characters.\n",
      "data/gutenberg/training/edgeworth-parents.txt has 916861 characters.\n",
      "data/gutenberg/training/melville-piazza.txt has 468007 characters.\n",
      "data/gutenberg/training/milton-paradise.txt has 468220 characters.\n",
      "data/gutenberg/training/shakespeare-caesar.txt has 112312 characters.\n",
      "data/gutenberg/training/shakespeare-hamlet.txt has 162881 characters.\n",
      "data/gutenberg/training/whitman-leaves.txt has 711215 characters.\n",
      "data/gutenberg/training/whitman-patriotic.txt has 174261 characters.\n",
      "data/gutenberg/training/whitman-poems.txt has 395157 characters.\n"
     ]
    }
   ],
   "source": [
    "for filepath in list_textfiles(\"data/gutenberg/training\"):\n",
    "    text = read_file(filepath)\n",
    "    print(filepath +  \" has \" + str(len(text)) + \" characters.\")"
   ]
  },
  {
   "cell_type": "markdown",
   "metadata": {},
   "source": [
    "---"
   ]
  },
  {
   "cell_type": "markdown",
   "metadata": {},
   "source": [
    "## Sentence tokenization"
   ]
  },
  {
   "cell_type": "markdown",
   "metadata": {},
   "source": [
    "In the previous chapter we wrote a function to tokenize or split a text string into a list of words. However, using this function we lose information about where sentences end and start in the text. We will develop a function `split_sentences` that performs some very simple sentence splitting when passed a text string. Each sentence will be represented as a new string, so the function as a whole returns a list of sentence strings. We assume that any occurrence of either `.` or `!` or `?` marks the end of a sentence. In reality, this is more ambiguous of course. Consider for example the use of periods as end-of-sentence marker as well as in abbreviations and initials!\n",
    "\n",
    "How should we tackle this problem? Have a look at the following picture:"
   ]
  },
  {
   "cell_type": "markdown",
   "metadata": {},
   "source": [
    "![caption](files/images/indexing.png)"
   ]
  },
  {
   "cell_type": "markdown",
   "metadata": {},
   "source": [
    "The first sentence *Hello there!* spans from index 0 to index 11. The second sentence from 13 to 26. If we come up with a way to extract those indexes, we could slice the text into separate sentences. First we define a utility function `end_of_sentence` that takes as argument a character and returns `True` if it is an end-of-sentence marker, otherwise it returns `False`. "
   ]
  },
  {
   "cell_type": "markdown",
   "metadata": {},
   "source": [
    "---"
   ]
  },
  {
   "cell_type": "markdown",
   "metadata": {},
   "source": [
    "#### Quiz!"
   ]
  },
  {
   "cell_type": "markdown",
   "metadata": {},
   "source": [
    "Write the function `end_of_sentence_marker` below:"
   ]
  },
  {
   "cell_type": "code",
   "execution_count": 9,
   "metadata": {},
   "outputs": [
    {
     "name": "stdout",
     "output_type": "stream",
     "text": [
      "True\n",
      "True\n"
     ]
    }
   ],
   "source": [
    "def end_of_sentence_marker(character):\n",
    "    # insert your code here\n",
    "    if character in \".!?\":\n",
    "        return True\n",
    "    else:\n",
    "        return False\n",
    "\n",
    "# these tests should return True if your code is correct\n",
    "print(end_of_sentence_marker(\"?\") == True)\n",
    "print(end_of_sentence_marker(\"a\") == False)"
   ]
  },
  {
   "cell_type": "markdown",
   "metadata": {},
   "source": [
    "---"
   ]
  },
  {
   "cell_type": "markdown",
   "metadata": {},
   "source": [
    "An important function we will use is the built in `enumerate`. `enumerate` takes as argument any iterable (a string a list etc.). Let's see it in action:"
   ]
  },
  {
   "cell_type": "code",
   "execution_count": 12,
   "metadata": {},
   "outputs": [
    {
     "name": "stdout",
     "output_type": "stream",
     "text": [
      "(0, 'P')\n",
      "(1, 'y')\n",
      "(2, 't')\n",
      "(3, 'h')\n",
      "(4, 'o')\n",
      "(5, 'n')\n",
      "(6, ' ')\n",
      "(7, 'p')\n",
      "(8, 'P')\n"
     ]
    }
   ],
   "source": [
    "for element in enumerate(\"Python pP\"):\n",
    "    print(element)"
   ]
  },
  {
   "cell_type": "markdown",
   "metadata": {},
   "source": [
    "As you can see, enumerate allows you to iterate over an iterable and for each element in that iterable, it gives you its corresponding index. A slightly more convenient way of iterating over `enumerate` is the following:"
   ]
  },
  {
   "cell_type": "code",
   "execution_count": 11,
   "metadata": {},
   "outputs": [
    {
     "name": "stdout",
     "output_type": "stream",
     "text": [
      "0\n",
      "1\n",
      "2\n",
      "3\n",
      "4\n",
      "5\n",
      "6\n",
      "7\n",
      "8\n"
     ]
    }
   ],
   "source": [
    "for index, character in enumerate(\"Python pP\"):\n",
    "    print(index)"
   ]
  },
  {
   "cell_type": "markdown",
   "metadata": {},
   "source": [
    "This way, we have easy access to both the index and the original item in the iterable. Now we know enough to write our `split_sentences` function. We will walk you through it, step by step, but first try to read the function and think about what it possibly does at each step:"
   ]
  },
  {
   "cell_type": "code",
   "execution_count": 13,
   "metadata": {},
   "outputs": [],
   "source": [
    "def split_sentences(text):\n",
    "    \"Split a text string into a list of sentences.\"\n",
    "    sentences = []\n",
    "    start = 0\n",
    "    for end, character in enumerate(text):\n",
    "        if end_of_sentence_marker(character):\n",
    "            sentence = text[start: end + 1]\n",
    "            sentences.append(sentence)\n",
    "            start = end + 1\n",
    "    return sentences"
   ]
  },
  {
   "cell_type": "markdown",
   "metadata": {},
   "source": [
    "The function `split_sentences` takes as argument a text represented by a simple string. Within the function we define a variable `sentences` in which we will store the individual sentences. We need to extract both the start position and the end position of each sentence. We know that the first sentence will always start at position 0. Therefore we define a variable start and set it to zero.\n",
    "\n",
    "Next we will use `enumerate` to loop over all individual characters in the text. Remember that enumerate returns pairs of indexes and their corresponding elements (here characters). For each character we check whether it is an end-of-sentence marker. If it is, the variable `end` marks the position in `text` where a sentence ends. We can now slice the text from the starting position to the end position and obtain our sentence. Notice that we add 1 to the end position. Why would that be? This is because, as you might remember from the first chapter, slices are non-inclusive, so `text[start:end]` would return the text starting at `start` and ending one position before `end`. Since we have reached the end of a sentence, we know that the next sentence will start at least one position later than our last end point. Therefore, we update the start variable to `end + 1`. Let's check whether our function works as promised:"
   ]
  },
  {
   "cell_type": "code",
   "execution_count": 14,
   "metadata": {},
   "outputs": [
    {
     "name": "stdout",
     "output_type": "stream",
     "text": [
      "['This is a sentence.', ' Should we seperate it from this one?']\n"
     ]
    }
   ],
   "source": [
    "print(split_sentences(\"This is a sentence. Should we seperate it from this one?\"))"
   ]
  },
  {
   "cell_type": "markdown",
   "metadata": {},
   "source": [
    "It does! "
   ]
  },
  {
   "cell_type": "markdown",
   "metadata": {},
   "source": [
    "---"
   ]
  },
  {
   "cell_type": "markdown",
   "metadata": {},
   "source": [
    "#### Quiz!"
   ]
  },
  {
   "cell_type": "markdown",
   "metadata": {},
   "source": [
    "To conclude this section, you will write a wrapper function `tokenize`, that takes as input a text represented by a string and tokenizes this string into sentences. After that, we clean each sentence, by lowercasing all words and removing punctuation. The final step is to tokenize each sentence into a list of words. The file `preprocessing.py` contains a function called `clean_text` which removes all punctuation from a text and turns all characters to lowercase. We import that function using the following line:"
   ]
  },
  {
   "cell_type": "code",
   "execution_count": null,
   "metadata": {},
   "outputs": [],
   "source": [
    "from pyhum.preprocessing import clean_text"
   ]
  },
  {
   "cell_type": "code",
   "execution_count": 17,
   "metadata": {},
   "outputs": [
    {
     "name": "stdout",
     "output_type": "stream",
     "text": [
      "True\n"
     ]
    }
   ],
   "source": [
    "def clean_sentence(sentence):\n",
    "    sentence_filtered = \"\"\n",
    "    for ch in sentence:\n",
    "        if ch not in '!@#$%^&*()_-+={}[]:;\"\\'|<>,.?/~`':\n",
    "            sentence_filtered += ch\n",
    "    return sentence_filtered.lower().split()\n",
    "\n",
    "def split_text(text):\n",
    "    \n",
    "    sentences = []\n",
    "    sentence = \"\"\n",
    "    for ch in text:\n",
    "        if ch not in \".!?\":\n",
    "            sentence += ch\n",
    "        else:\n",
    "            sentences.append(sentence)\n",
    "            sentence = \"\"\n",
    "    return sentences\n",
    "\n",
    "def tokenize(text):\n",
    "    \"\"\"Transform TEXT into a list of sentences. Lowercase \n",
    "    each sentence and remove all punctuation. Finally split each\n",
    "    sentence into a list of words.\"\"\"\n",
    "    # insert your code here\n",
    "    sentences = split_text(text)\n",
    "    tokens = []\n",
    "    for sentence in sentences:\n",
    "        tokens.append(clean_sentence(sentence))\n",
    "    return tokens\n",
    "\n",
    "# these tests should return True if your code is correct\n",
    "print(tokenize(\"This is a sentence. So, what!\") == [[\"this\", \"is\", \"a\", \"sentence\"], [\"so\", \"what\"]])"
   ]
  },
  {
   "cell_type": "markdown",
   "metadata": {},
   "source": [
    "---"
   ]
  },
  {
   "cell_type": "markdown",
   "metadata": {},
   "source": [
    "## General Text Statistics"
   ]
  },
  {
   "cell_type": "markdown",
   "metadata": {},
   "source": [
    "> When the next night came, Dinarazad said to her sister Shahrazad: ‘In God’s name, sister, if you are not asleep, then tell us one of your stories!’ Shahrazad answered: ‘With great pleasure! I have heard tell, honoured King, that…’"
   ]
  },
  {
   "cell_type": "markdown",
   "metadata": {},
   "source": [
    "*Alf Laylah Wa Laylah*, *the Stories of One Thousand and One Nights* is a collection of folk tales, collected over many centuries by various authors, translators, and scholars across West, Central and South Asia and North Africa, forms a huge narrative wheel with an overarching plot, created by the frame story of Shahrazad.\n",
    "\n",
    "The stories begin with the tale of king Shahryar and his brother, who, having both been deceived by their respective Sultanas, leave their kingdom, only to return when they have found someone who — in their view — was wronged even more. On their journey the two brothers encounter a huge jinn who carries a glass box containing a beautiful young woman. The two brothers hide as quickly as they can in a tree. The jinn lays his head on the girl’s lap and as soon as he is asleep, the girl demands the two kings to make love to her or else she will wake her ‘husband’. They reluctantly give in and the brothers soon discover that the girl has already betrayed the jinn ninety-eight times before. This exemplar of lust and treachery strengthens the Sultan’s opinion that all women are wicked and not to be trusted. \n",
    "\n",
    "When king Shahryar returns home, his wrath against women has grown to an unprecedented level. To temper his anger, each night the king sleeps with a virgin only to execute her the next morning. In order to make an end to this cruelty and save womanhood from a \"virgin scarcity\", Sharazad offers herself as the next king’s bride. On the first night, Sharazad begins to tell the king a story, but she does not end it. The king’s curiosity to know how the story ends, prevents him from executing Shahrazad. The next night Shahrazad finishes her story, and begins a new one. The king, eager to know the ending of this tale as well, postpones her execution once more. Using this strategy for One Thousand and One Nights in a labyrinth of stories-within-stories-within-stories, Shahrazad attempts to gradually move the king’s cynical stance against women towards a politics of love and justice (see Marina Warner’s *Stranger Magic* (2013) in case you're interested).\n",
    "\n",
    "The first European version of the Nights was translated into French by Antoine Galland. Many translations (in different languages) followed, such as the (heavily criticized) English translation by Sir Richard Francis Burton entitled *The Book of the Thousand and a Night* (1885). This version is freely available from the Gutenberg project (see [here](http://www.gutenberg.org)), and will be the one we will explore here."
   ]
  },
  {
   "cell_type": "markdown",
   "metadata": {},
   "source": [
    "---"
   ]
  },
  {
   "cell_type": "markdown",
   "metadata": {},
   "source": [
    "#### Quiz!"
   ]
  },
  {
   "cell_type": "markdown",
   "metadata": {},
   "source": [
    "In the directory `data/arabian_nights` you will find 999 files. This is because in Burton's translation some nights are missing. The name of the file represents the corresponding night of storytelling in *Alf Laylah Wa Laylah*. Go have a look. Use the tokenize function and the corpus reading function we have defined above and tokenize and clean each night. Store the result in the variable named `corpus`."
   ]
  },
  {
   "cell_type": "code",
   "execution_count": 18,
   "metadata": {},
   "outputs": [
    {
     "data": {
      "text/plain": [
       "['Jenny', 'once', 'twice', 'october']"
      ]
     },
     "execution_count": 18,
     "metadata": {},
     "output_type": "execute_result"
    }
   ],
   "source": [
    "[\"Jenny\", \"once\"] + [\"twice\", \"october\"]"
   ]
  },
  {
   "cell_type": "code",
   "execution_count": 118,
   "metadata": {},
   "outputs": [],
   "source": [
    "# insert your code here\n",
    "corpus = []\n",
    "for filename in listdir(\"data/Arabian_nights\"):\n",
    "    with open(\"data/Arabian_nights/\" + filename, mode='r') as file:\n",
    "        night = file.read()\n",
    "        night += \".\"\n",
    "        corpus.append(tokenize(night))\n",
    "#         corpus += tokenize(text)"
   ]
  },
  {
   "cell_type": "markdown",
   "metadata": {},
   "source": [
    "---"
   ]
  },
  {
   "cell_type": "markdown",
   "metadata": {},
   "source": [
    "Great job! You now should have a corpus containing 999 texts. It is always important to check whether our code actually produces the desired results. Let's check whether we indeed have 999 texts:"
   ]
  },
  {
   "cell_type": "code",
   "execution_count": 26,
   "metadata": {},
   "outputs": [
    {
     "name": "stdout",
     "output_type": "stream",
     "text": [
      "999\n"
     ]
    }
   ],
   "source": [
    "print(len(corpus))"
   ]
  },
  {
   "cell_type": "markdown",
   "metadata": {},
   "source": [
    "OK, that seems to be correct. It would be convenient for further processing to have the corpus in chronological order. Let's have a look the first 20 files returned by `list_textfiles`:"
   ]
  },
  {
   "cell_type": "code",
   "execution_count": 31,
   "metadata": {
    "scrolled": true
   },
   "outputs": [
    {
     "name": "stdout",
     "output_type": "stream",
     "text": [
      "('data/arabian_nights/1', '.txt')\n",
      "1.txt\n",
      "('1', '.txt')\n",
      "('data/arabian_nights/10', '.txt')\n",
      "10.txt\n",
      "('10', '.txt')\n",
      "('data/arabian_nights/100', '.txt')\n",
      "100.txt\n",
      "('100', '.txt')\n",
      "('data/arabian_nights/1000', '.txt')\n",
      "1000.txt\n",
      "('1000', '.txt')\n",
      "('data/arabian_nights/1001', '.txt')\n",
      "1001.txt\n",
      "('1001', '.txt')\n",
      "('data/arabian_nights/101', '.txt')\n",
      "101.txt\n",
      "('101', '.txt')\n",
      "('data/arabian_nights/102', '.txt')\n",
      "102.txt\n",
      "('102', '.txt')\n",
      "('data/arabian_nights/103', '.txt')\n",
      "103.txt\n",
      "('103', '.txt')\n",
      "('data/arabian_nights/104', '.txt')\n",
      "104.txt\n",
      "('104', '.txt')\n",
      "('data/arabian_nights/105', '.txt')\n",
      "105.txt\n",
      "('105', '.txt')\n",
      "('data/arabian_nights/106', '.txt')\n",
      "106.txt\n",
      "('106', '.txt')\n",
      "('data/arabian_nights/107', '.txt')\n",
      "107.txt\n",
      "('107', '.txt')\n",
      "('data/arabian_nights/108', '.txt')\n",
      "108.txt\n",
      "('108', '.txt')\n",
      "('data/arabian_nights/109', '.txt')\n",
      "109.txt\n",
      "('109', '.txt')\n",
      "('data/arabian_nights/11', '.txt')\n",
      "11.txt\n",
      "('11', '.txt')\n",
      "('data/arabian_nights/110', '.txt')\n",
      "110.txt\n",
      "('110', '.txt')\n",
      "('data/arabian_nights/111', '.txt')\n",
      "111.txt\n",
      "('111', '.txt')\n",
      "('data/arabian_nights/112', '.txt')\n",
      "112.txt\n",
      "('112', '.txt')\n",
      "('data/arabian_nights/113', '.txt')\n",
      "113.txt\n",
      "('113', '.txt')\n",
      "('data/arabian_nights/114', '.txt')\n",
      "114.txt\n",
      "('114', '.txt')\n"
     ]
    }
   ],
   "source": [
    "import os\n",
    "for path in (list_textfiles(\"data/arabian_nights\")[:20]):\n",
    "    print(os.path.splitext(path))\n",
    "    print(os.path.basename(path))\n",
    "    print(os.path.splitext(os.path.basename(path)))"
   ]
  },
  {
   "cell_type": "markdown",
   "metadata": {},
   "source": [
    "As you can see the files are sorted by their string name and not by their numbering. To be able to sort the files by their numbers we must first remove the extension `.txt` as well as the directory `data/arabian_nights/`."
   ]
  },
  {
   "cell_type": "markdown",
   "metadata": {},
   "source": [
    "---"
   ]
  },
  {
   "cell_type": "markdown",
   "metadata": {},
   "source": [
    "#### Quiz!"
   ]
  },
  {
   "cell_type": "markdown",
   "metadata": {},
   "source": [
    "**1)** Write a function `remove_txt` that takes as argument a string and some extension that you want to remove. It should return the string without the extension. Tip: use the function `splitext` from the `os.path` module. Look up the documentation [here](http://docs.python.org/3.4/library/os.path.html#os.path.splitext)."
   ]
  },
  {
   "cell_type": "code",
   "execution_count": 29,
   "metadata": {},
   "outputs": [
    {
     "name": "stdout",
     "output_type": "stream",
     "text": [
      "True\n",
      "True\n"
     ]
    }
   ],
   "source": [
    "from os.path import splitext\n",
    "\n",
    "def remove_ext(filename):\n",
    "    # insert your code here\n",
    "    return os.path.splitext(filename)[0]\n",
    "    \n",
    "# these tests should return True if your code is correct\n",
    "print(remove_ext(\"data/arabian_nights/1.txt\") == \"data/arabian_nights/1\")\n",
    "print(remove_ext(\"ridiculous_selfie.jpg\") == \"ridiculous_selfie\")"
   ]
  },
  {
   "cell_type": "markdown",
   "metadata": {},
   "source": [
    "**2)** Write a function `remove_dir` that takes as argument a filepath and removes the directory from a filepath. Tip: use the function `basename` from the `os.path` module. Look up the document [here](http://docs.python.org/3.4/library/os.path.html#os.path.basename)"
   ]
  },
  {
   "cell_type": "code",
   "execution_count": 34,
   "metadata": {},
   "outputs": [
    {
     "name": "stdout",
     "output_type": "stream",
     "text": [
      "True\n",
      "True\n"
     ]
    }
   ],
   "source": [
    "from os.path import basename\n",
    "\n",
    "def remove_dir(filepath):\n",
    "    # insert your code here\n",
    "    return os.path.basename(filepath)\n",
    "    \n",
    "# these tests should return True if your code is correct\n",
    "print(remove_dir(\"data/arabian_nights/1.txt\") == \"1.txt\")\n",
    "print(remove_dir(\"/a/kind/of/funny/filepath/to/file.txt\") == \"file.txt\")"
   ]
  },
  {
   "cell_type": "markdown",
   "metadata": {},
   "source": [
    "**3)** Combine the two functions `remove_ext` and `remove_dir` into one function `get_filename`. This function takes as argument a filepath and returns the name (without the extensions) of the file."
   ]
  },
  {
   "cell_type": "code",
   "execution_count": 35,
   "metadata": {},
   "outputs": [
    {
     "name": "stdout",
     "output_type": "stream",
     "text": [
      "True\n"
     ]
    }
   ],
   "source": [
    "def get_filename(filepath):\n",
    "    # insert your code here\n",
    "    return os.path.splitext(os.path.basename(filepath))[0]\n",
    "    \n",
    "# these tests should return True if your code is correct\n",
    "print(get_filename(\"data/arabian_nights/1.txt\") == '1')"
   ]
  },
  {
   "cell_type": "markdown",
   "metadata": {},
   "source": [
    "---"
   ]
  },
  {
   "cell_type": "markdown",
   "metadata": {},
   "source": [
    "The final step is to convert numbers represented as string (e.g. \"1\" and \"10\") to a number. This can be achieved by using the function `int`:"
   ]
  },
  {
   "cell_type": "code",
   "execution_count": 36,
   "metadata": {},
   "outputs": [
    {
     "name": "stdout",
     "output_type": "stream",
     "text": [
      "1\n"
     ]
    }
   ],
   "source": [
    "x_as_string = \"1\"\n",
    "x_as_int = int(x_as_string)\n",
    "print(x_as_int)"
   ]
  },
  {
   "cell_type": "markdown",
   "metadata": {},
   "source": [
    "The process of converting a string into an integer, is called *type casting*. Strings are different types than integers. To see this, have a look at the following:"
   ]
  },
  {
   "cell_type": "code",
   "execution_count": 37,
   "metadata": {},
   "outputs": [
    {
     "name": "stdout",
     "output_type": "stream",
     "text": [
      "12\n"
     ]
    }
   ],
   "source": [
    "x = \"1\"\n",
    "y = \"2\"\n",
    "print(x + y)"
   ]
  },
  {
   "cell_type": "markdown",
   "metadata": {},
   "source": [
    "12? Yes, 12. This is because, as you might remember from the first chapter, we can use the `+` operator to concatenate two strings. If we apply the same operation to integers, as in:"
   ]
  },
  {
   "cell_type": "code",
   "execution_count": 38,
   "metadata": {},
   "outputs": [
    {
     "name": "stdout",
     "output_type": "stream",
     "text": [
      "3\n"
     ]
    }
   ],
   "source": [
    "x = 1\n",
    "y = 2\n",
    "print(x + y)"
   ]
  },
  {
   "cell_type": "markdown",
   "metadata": {},
   "source": [
    "we get the expected result of 3."
   ]
  },
  {
   "cell_type": "markdown",
   "metadata": {},
   "source": [
    "---"
   ]
  },
  {
   "cell_type": "markdown",
   "metadata": {},
   "source": [
    "#### Quiz!"
   ]
  },
  {
   "cell_type": "markdown",
   "metadata": {},
   "source": [
    "Combine the functions `int` and `get_filename` into the function `get_night` to obtain the integer corresponding to a night."
   ]
  },
  {
   "cell_type": "code",
   "execution_count": 39,
   "metadata": {},
   "outputs": [
    {
     "name": "stdout",
     "output_type": "stream",
     "text": [
      "True\n"
     ]
    }
   ],
   "source": [
    "def get_night(filepath):\n",
    "    # insert your code here\n",
    "    return int(os.path.splitext(os.path.basename(filepath))[0])\n",
    "\n",
    "# these tests should return True if your code is correct\n",
    "print(get_night(\"data/arabian_nights/1.txt\") == 1)"
   ]
  },
  {
   "cell_type": "markdown",
   "metadata": {},
   "source": [
    "---"
   ]
  },
  {
   "cell_type": "markdown",
   "metadata": {},
   "source": [
    "OK, so now we can convert the filepaths to integers corresponding to the nights of storytelling. But how will we use that to sort the corpus in chronological order? In chapter 1 we briefly discussed how to sort your collection of good reads. In combination with our `get_night` function, we can use `sort` to obtain a nicely chronologically ordered list of stories. Prepare yourself for some real Python magic, because the following lines of code might be a little dazzling...\n",
    "\n",
    "First we list all files using `list_textfiles` and store it in the variable `filenames`:"
   ]
  },
  {
   "cell_type": "code",
   "execution_count": 55,
   "metadata": {},
   "outputs": [
    {
     "data": {
      "text/plain": [
       "['data/arabian_nights/1.txt',\n",
       " 'data/arabian_nights/10.txt',\n",
       " 'data/arabian_nights/100.txt',\n",
       " 'data/arabian_nights/1000.txt',\n",
       " 'data/arabian_nights/1001.txt',\n",
       " 'data/arabian_nights/101.txt',\n",
       " 'data/arabian_nights/102.txt',\n",
       " 'data/arabian_nights/103.txt',\n",
       " 'data/arabian_nights/104.txt',\n",
       " 'data/arabian_nights/105.txt',\n",
       " 'data/arabian_nights/106.txt',\n",
       " 'data/arabian_nights/107.txt',\n",
       " 'data/arabian_nights/108.txt',\n",
       " 'data/arabian_nights/109.txt',\n",
       " 'data/arabian_nights/11.txt',\n",
       " 'data/arabian_nights/110.txt',\n",
       " 'data/arabian_nights/111.txt',\n",
       " 'data/arabian_nights/112.txt',\n",
       " 'data/arabian_nights/113.txt',\n",
       " 'data/arabian_nights/114.txt',\n",
       " 'data/arabian_nights/115.txt',\n",
       " 'data/arabian_nights/116.txt',\n",
       " 'data/arabian_nights/117.txt',\n",
       " 'data/arabian_nights/118.txt',\n",
       " 'data/arabian_nights/119.txt',\n",
       " 'data/arabian_nights/12.txt',\n",
       " 'data/arabian_nights/120.txt',\n",
       " 'data/arabian_nights/121.txt',\n",
       " 'data/arabian_nights/122.txt',\n",
       " 'data/arabian_nights/123.txt',\n",
       " 'data/arabian_nights/124.txt',\n",
       " 'data/arabian_nights/125.txt',\n",
       " 'data/arabian_nights/126.txt',\n",
       " 'data/arabian_nights/127.txt',\n",
       " 'data/arabian_nights/128.txt',\n",
       " 'data/arabian_nights/129.txt',\n",
       " 'data/arabian_nights/13.txt',\n",
       " 'data/arabian_nights/130.txt',\n",
       " 'data/arabian_nights/131.txt',\n",
       " 'data/arabian_nights/132.txt',\n",
       " 'data/arabian_nights/133.txt',\n",
       " 'data/arabian_nights/134.txt',\n",
       " 'data/arabian_nights/135.txt',\n",
       " 'data/arabian_nights/136.txt',\n",
       " 'data/arabian_nights/137.txt',\n",
       " 'data/arabian_nights/138.txt',\n",
       " 'data/arabian_nights/139.txt',\n",
       " 'data/arabian_nights/14.txt',\n",
       " 'data/arabian_nights/140.txt',\n",
       " 'data/arabian_nights/141.txt',\n",
       " 'data/arabian_nights/142.txt',\n",
       " 'data/arabian_nights/143.txt',\n",
       " 'data/arabian_nights/144.txt',\n",
       " 'data/arabian_nights/145.txt',\n",
       " 'data/arabian_nights/146.txt',\n",
       " 'data/arabian_nights/147.txt',\n",
       " 'data/arabian_nights/148.txt',\n",
       " 'data/arabian_nights/149.txt',\n",
       " 'data/arabian_nights/15.txt',\n",
       " 'data/arabian_nights/150.txt',\n",
       " 'data/arabian_nights/151.txt',\n",
       " 'data/arabian_nights/152.txt',\n",
       " 'data/arabian_nights/153.txt',\n",
       " 'data/arabian_nights/154.txt',\n",
       " 'data/arabian_nights/155.txt',\n",
       " 'data/arabian_nights/156.txt',\n",
       " 'data/arabian_nights/157.txt',\n",
       " 'data/arabian_nights/158.txt',\n",
       " 'data/arabian_nights/159.txt',\n",
       " 'data/arabian_nights/16.txt',\n",
       " 'data/arabian_nights/160.txt',\n",
       " 'data/arabian_nights/161.txt',\n",
       " 'data/arabian_nights/162.txt',\n",
       " 'data/arabian_nights/163.txt',\n",
       " 'data/arabian_nights/164.txt',\n",
       " 'data/arabian_nights/165.txt',\n",
       " 'data/arabian_nights/166.txt',\n",
       " 'data/arabian_nights/167.txt',\n",
       " 'data/arabian_nights/168.txt',\n",
       " 'data/arabian_nights/169.txt',\n",
       " 'data/arabian_nights/17.txt',\n",
       " 'data/arabian_nights/170.txt',\n",
       " 'data/arabian_nights/171.txt',\n",
       " 'data/arabian_nights/172.txt',\n",
       " 'data/arabian_nights/173.txt',\n",
       " 'data/arabian_nights/174.txt',\n",
       " 'data/arabian_nights/175.txt',\n",
       " 'data/arabian_nights/176.txt',\n",
       " 'data/arabian_nights/177.txt',\n",
       " 'data/arabian_nights/178.txt',\n",
       " 'data/arabian_nights/179.txt',\n",
       " 'data/arabian_nights/18.txt',\n",
       " 'data/arabian_nights/180.txt',\n",
       " 'data/arabian_nights/181.txt',\n",
       " 'data/arabian_nights/182.txt',\n",
       " 'data/arabian_nights/183.txt',\n",
       " 'data/arabian_nights/184.txt',\n",
       " 'data/arabian_nights/185.txt',\n",
       " 'data/arabian_nights/186.txt',\n",
       " 'data/arabian_nights/187.txt',\n",
       " 'data/arabian_nights/188.txt',\n",
       " 'data/arabian_nights/189.txt',\n",
       " 'data/arabian_nights/19.txt',\n",
       " 'data/arabian_nights/190.txt',\n",
       " 'data/arabian_nights/191.txt',\n",
       " 'data/arabian_nights/192.txt',\n",
       " 'data/arabian_nights/193.txt',\n",
       " 'data/arabian_nights/194.txt',\n",
       " 'data/arabian_nights/195.txt',\n",
       " 'data/arabian_nights/196.txt',\n",
       " 'data/arabian_nights/197.txt',\n",
       " 'data/arabian_nights/198.txt',\n",
       " 'data/arabian_nights/199.txt',\n",
       " 'data/arabian_nights/2.txt',\n",
       " 'data/arabian_nights/20.txt',\n",
       " 'data/arabian_nights/200.txt',\n",
       " 'data/arabian_nights/201.txt',\n",
       " 'data/arabian_nights/202.txt',\n",
       " 'data/arabian_nights/203.txt',\n",
       " 'data/arabian_nights/204.txt',\n",
       " 'data/arabian_nights/205.txt',\n",
       " 'data/arabian_nights/206.txt',\n",
       " 'data/arabian_nights/207.txt',\n",
       " 'data/arabian_nights/208.txt',\n",
       " 'data/arabian_nights/209.txt',\n",
       " 'data/arabian_nights/21.txt',\n",
       " 'data/arabian_nights/210.txt',\n",
       " 'data/arabian_nights/211.txt',\n",
       " 'data/arabian_nights/212.txt',\n",
       " 'data/arabian_nights/213.txt',\n",
       " 'data/arabian_nights/214.txt',\n",
       " 'data/arabian_nights/215.txt',\n",
       " 'data/arabian_nights/216.txt',\n",
       " 'data/arabian_nights/217.txt',\n",
       " 'data/arabian_nights/218.txt',\n",
       " 'data/arabian_nights/219.txt',\n",
       " 'data/arabian_nights/22.txt',\n",
       " 'data/arabian_nights/220.txt',\n",
       " 'data/arabian_nights/221.txt',\n",
       " 'data/arabian_nights/222.txt',\n",
       " 'data/arabian_nights/223.txt',\n",
       " 'data/arabian_nights/224.txt',\n",
       " 'data/arabian_nights/225.txt',\n",
       " 'data/arabian_nights/226.txt',\n",
       " 'data/arabian_nights/227.txt',\n",
       " 'data/arabian_nights/228.txt',\n",
       " 'data/arabian_nights/229.txt',\n",
       " 'data/arabian_nights/23.txt',\n",
       " 'data/arabian_nights/230.txt',\n",
       " 'data/arabian_nights/231.txt',\n",
       " 'data/arabian_nights/232.txt',\n",
       " 'data/arabian_nights/233.txt',\n",
       " 'data/arabian_nights/234.txt',\n",
       " 'data/arabian_nights/235.txt',\n",
       " 'data/arabian_nights/236.txt',\n",
       " 'data/arabian_nights/237.txt',\n",
       " 'data/arabian_nights/238.txt',\n",
       " 'data/arabian_nights/239.txt',\n",
       " 'data/arabian_nights/24.txt',\n",
       " 'data/arabian_nights/240.txt',\n",
       " 'data/arabian_nights/241.txt',\n",
       " 'data/arabian_nights/242.txt',\n",
       " 'data/arabian_nights/243.txt',\n",
       " 'data/arabian_nights/244.txt',\n",
       " 'data/arabian_nights/245.txt',\n",
       " 'data/arabian_nights/246.txt',\n",
       " 'data/arabian_nights/247.txt',\n",
       " 'data/arabian_nights/248.txt',\n",
       " 'data/arabian_nights/249.txt',\n",
       " 'data/arabian_nights/25.txt',\n",
       " 'data/arabian_nights/250.txt',\n",
       " 'data/arabian_nights/251.txt',\n",
       " 'data/arabian_nights/252.txt',\n",
       " 'data/arabian_nights/253.txt',\n",
       " 'data/arabian_nights/254.txt',\n",
       " 'data/arabian_nights/255.txt',\n",
       " 'data/arabian_nights/256.txt',\n",
       " 'data/arabian_nights/257.txt',\n",
       " 'data/arabian_nights/258.txt',\n",
       " 'data/arabian_nights/259.txt',\n",
       " 'data/arabian_nights/26.txt',\n",
       " 'data/arabian_nights/260.txt',\n",
       " 'data/arabian_nights/261.txt',\n",
       " 'data/arabian_nights/262.txt',\n",
       " 'data/arabian_nights/263.txt',\n",
       " 'data/arabian_nights/264.txt',\n",
       " 'data/arabian_nights/265.txt',\n",
       " 'data/arabian_nights/266.txt',\n",
       " 'data/arabian_nights/267.txt',\n",
       " 'data/arabian_nights/268.txt',\n",
       " 'data/arabian_nights/269.txt',\n",
       " 'data/arabian_nights/27.txt',\n",
       " 'data/arabian_nights/270.txt',\n",
       " 'data/arabian_nights/271.txt',\n",
       " 'data/arabian_nights/272.txt',\n",
       " 'data/arabian_nights/273.txt',\n",
       " 'data/arabian_nights/274.txt',\n",
       " 'data/arabian_nights/275.txt',\n",
       " 'data/arabian_nights/276.txt',\n",
       " 'data/arabian_nights/277.txt',\n",
       " 'data/arabian_nights/278.txt',\n",
       " 'data/arabian_nights/279.txt',\n",
       " 'data/arabian_nights/28.txt',\n",
       " 'data/arabian_nights/280.txt',\n",
       " 'data/arabian_nights/281.txt',\n",
       " 'data/arabian_nights/282.txt',\n",
       " 'data/arabian_nights/283.txt',\n",
       " 'data/arabian_nights/284.txt',\n",
       " 'data/arabian_nights/285.txt',\n",
       " 'data/arabian_nights/286.txt',\n",
       " 'data/arabian_nights/287.txt',\n",
       " 'data/arabian_nights/288.txt',\n",
       " 'data/arabian_nights/289.txt',\n",
       " 'data/arabian_nights/29.txt',\n",
       " 'data/arabian_nights/290.txt',\n",
       " 'data/arabian_nights/291.txt',\n",
       " 'data/arabian_nights/292.txt',\n",
       " 'data/arabian_nights/293.txt',\n",
       " 'data/arabian_nights/294.txt',\n",
       " 'data/arabian_nights/295.txt',\n",
       " 'data/arabian_nights/296.txt',\n",
       " 'data/arabian_nights/297.txt',\n",
       " 'data/arabian_nights/298.txt',\n",
       " 'data/arabian_nights/299.txt',\n",
       " 'data/arabian_nights/3.txt',\n",
       " 'data/arabian_nights/30.txt',\n",
       " 'data/arabian_nights/300.txt',\n",
       " 'data/arabian_nights/301.txt',\n",
       " 'data/arabian_nights/302.txt',\n",
       " 'data/arabian_nights/303.txt',\n",
       " 'data/arabian_nights/304.txt',\n",
       " 'data/arabian_nights/305.txt',\n",
       " 'data/arabian_nights/306.txt',\n",
       " 'data/arabian_nights/307.txt',\n",
       " 'data/arabian_nights/308.txt',\n",
       " 'data/arabian_nights/309.txt',\n",
       " 'data/arabian_nights/31.txt',\n",
       " 'data/arabian_nights/310.txt',\n",
       " 'data/arabian_nights/311.txt',\n",
       " 'data/arabian_nights/312.txt',\n",
       " 'data/arabian_nights/313.txt',\n",
       " 'data/arabian_nights/314.txt',\n",
       " 'data/arabian_nights/315.txt',\n",
       " 'data/arabian_nights/316.txt',\n",
       " 'data/arabian_nights/317.txt',\n",
       " 'data/arabian_nights/318.txt',\n",
       " 'data/arabian_nights/319.txt',\n",
       " 'data/arabian_nights/32.txt',\n",
       " 'data/arabian_nights/320.txt',\n",
       " 'data/arabian_nights/321.txt',\n",
       " 'data/arabian_nights/322.txt',\n",
       " 'data/arabian_nights/323.txt',\n",
       " 'data/arabian_nights/324.txt',\n",
       " 'data/arabian_nights/325.txt',\n",
       " 'data/arabian_nights/326.txt',\n",
       " 'data/arabian_nights/327.txt',\n",
       " 'data/arabian_nights/328.txt',\n",
       " 'data/arabian_nights/329.txt',\n",
       " 'data/arabian_nights/33.txt',\n",
       " 'data/arabian_nights/330.txt',\n",
       " 'data/arabian_nights/331.txt',\n",
       " 'data/arabian_nights/332.txt',\n",
       " 'data/arabian_nights/333.txt',\n",
       " 'data/arabian_nights/334.txt',\n",
       " 'data/arabian_nights/335.txt',\n",
       " 'data/arabian_nights/336.txt',\n",
       " 'data/arabian_nights/337.txt',\n",
       " 'data/arabian_nights/338.txt',\n",
       " 'data/arabian_nights/339.txt',\n",
       " 'data/arabian_nights/34.txt',\n",
       " 'data/arabian_nights/340.txt',\n",
       " 'data/arabian_nights/341.txt',\n",
       " 'data/arabian_nights/342.txt',\n",
       " 'data/arabian_nights/343.txt',\n",
       " 'data/arabian_nights/344.txt',\n",
       " 'data/arabian_nights/345.txt',\n",
       " 'data/arabian_nights/346.txt',\n",
       " 'data/arabian_nights/347.txt',\n",
       " 'data/arabian_nights/348.txt',\n",
       " 'data/arabian_nights/349.txt',\n",
       " 'data/arabian_nights/35.txt',\n",
       " 'data/arabian_nights/350.txt',\n",
       " 'data/arabian_nights/351.txt',\n",
       " 'data/arabian_nights/352.txt',\n",
       " 'data/arabian_nights/353.txt',\n",
       " 'data/arabian_nights/354.txt',\n",
       " 'data/arabian_nights/355.txt',\n",
       " 'data/arabian_nights/356.txt',\n",
       " 'data/arabian_nights/357.txt',\n",
       " 'data/arabian_nights/358.txt',\n",
       " 'data/arabian_nights/359.txt',\n",
       " 'data/arabian_nights/36.txt',\n",
       " 'data/arabian_nights/360.txt',\n",
       " 'data/arabian_nights/361.txt',\n",
       " 'data/arabian_nights/362.txt',\n",
       " 'data/arabian_nights/363.txt',\n",
       " 'data/arabian_nights/364.txt',\n",
       " 'data/arabian_nights/365.txt',\n",
       " 'data/arabian_nights/366.txt',\n",
       " 'data/arabian_nights/367.txt',\n",
       " 'data/arabian_nights/368.txt',\n",
       " 'data/arabian_nights/369.txt',\n",
       " 'data/arabian_nights/37.txt',\n",
       " 'data/arabian_nights/370.txt',\n",
       " 'data/arabian_nights/371.txt',\n",
       " 'data/arabian_nights/372.txt',\n",
       " 'data/arabian_nights/373.txt',\n",
       " 'data/arabian_nights/374.txt',\n",
       " 'data/arabian_nights/375.txt',\n",
       " 'data/arabian_nights/376.txt',\n",
       " 'data/arabian_nights/377.txt',\n",
       " 'data/arabian_nights/378.txt',\n",
       " 'data/arabian_nights/379.txt',\n",
       " 'data/arabian_nights/38.txt',\n",
       " 'data/arabian_nights/380.txt',\n",
       " 'data/arabian_nights/381.txt',\n",
       " 'data/arabian_nights/382.txt',\n",
       " 'data/arabian_nights/383.txt',\n",
       " 'data/arabian_nights/384.txt',\n",
       " 'data/arabian_nights/385.txt',\n",
       " 'data/arabian_nights/386.txt',\n",
       " 'data/arabian_nights/387.txt',\n",
       " 'data/arabian_nights/388.txt',\n",
       " 'data/arabian_nights/389.txt',\n",
       " 'data/arabian_nights/39.txt',\n",
       " 'data/arabian_nights/390.txt',\n",
       " 'data/arabian_nights/391.txt',\n",
       " 'data/arabian_nights/392.txt',\n",
       " 'data/arabian_nights/393.txt',\n",
       " 'data/arabian_nights/394.txt',\n",
       " 'data/arabian_nights/395.txt',\n",
       " 'data/arabian_nights/398.txt',\n",
       " 'data/arabian_nights/399.txt',\n",
       " 'data/arabian_nights/4.txt',\n",
       " 'data/arabian_nights/40.txt',\n",
       " 'data/arabian_nights/400.txt',\n",
       " 'data/arabian_nights/401.txt',\n",
       " 'data/arabian_nights/402.txt',\n",
       " 'data/arabian_nights/403.txt',\n",
       " 'data/arabian_nights/404.txt',\n",
       " 'data/arabian_nights/405.txt',\n",
       " 'data/arabian_nights/406.txt',\n",
       " 'data/arabian_nights/407.txt',\n",
       " 'data/arabian_nights/408.txt',\n",
       " 'data/arabian_nights/409.txt',\n",
       " 'data/arabian_nights/41.txt',\n",
       " 'data/arabian_nights/410.txt',\n",
       " 'data/arabian_nights/411.txt',\n",
       " 'data/arabian_nights/412.txt',\n",
       " 'data/arabian_nights/413.txt',\n",
       " 'data/arabian_nights/414.txt',\n",
       " 'data/arabian_nights/415.txt',\n",
       " 'data/arabian_nights/416.txt',\n",
       " 'data/arabian_nights/417.txt',\n",
       " 'data/arabian_nights/418.txt',\n",
       " 'data/arabian_nights/419.txt',\n",
       " 'data/arabian_nights/42.txt',\n",
       " 'data/arabian_nights/420.txt',\n",
       " 'data/arabian_nights/421.txt',\n",
       " 'data/arabian_nights/422.txt',\n",
       " 'data/arabian_nights/423.txt',\n",
       " 'data/arabian_nights/424.txt',\n",
       " 'data/arabian_nights/425.txt',\n",
       " 'data/arabian_nights/426.txt',\n",
       " 'data/arabian_nights/427.txt',\n",
       " 'data/arabian_nights/428.txt',\n",
       " 'data/arabian_nights/429.txt',\n",
       " 'data/arabian_nights/43.txt',\n",
       " 'data/arabian_nights/430.txt',\n",
       " 'data/arabian_nights/431.txt',\n",
       " 'data/arabian_nights/432.txt',\n",
       " 'data/arabian_nights/433.txt',\n",
       " 'data/arabian_nights/434.txt',\n",
       " 'data/arabian_nights/435.txt',\n",
       " 'data/arabian_nights/436.txt',\n",
       " 'data/arabian_nights/437.txt',\n",
       " 'data/arabian_nights/438.txt',\n",
       " 'data/arabian_nights/439.txt',\n",
       " 'data/arabian_nights/44.txt',\n",
       " 'data/arabian_nights/440.txt',\n",
       " 'data/arabian_nights/441.txt',\n",
       " 'data/arabian_nights/442.txt',\n",
       " 'data/arabian_nights/443.txt',\n",
       " 'data/arabian_nights/444.txt',\n",
       " 'data/arabian_nights/445.txt',\n",
       " 'data/arabian_nights/446.txt',\n",
       " 'data/arabian_nights/447.txt',\n",
       " 'data/arabian_nights/448.txt',\n",
       " 'data/arabian_nights/449.txt',\n",
       " 'data/arabian_nights/45.txt',\n",
       " 'data/arabian_nights/450.txt',\n",
       " 'data/arabian_nights/451.txt',\n",
       " 'data/arabian_nights/452.txt',\n",
       " 'data/arabian_nights/453.txt',\n",
       " 'data/arabian_nights/454.txt',\n",
       " 'data/arabian_nights/455.txt',\n",
       " 'data/arabian_nights/456.txt',\n",
       " 'data/arabian_nights/457.txt',\n",
       " 'data/arabian_nights/458.txt',\n",
       " 'data/arabian_nights/459.txt',\n",
       " 'data/arabian_nights/46.txt',\n",
       " 'data/arabian_nights/460.txt',\n",
       " 'data/arabian_nights/461.txt',\n",
       " 'data/arabian_nights/462.txt',\n",
       " 'data/arabian_nights/463.txt',\n",
       " 'data/arabian_nights/464.txt',\n",
       " 'data/arabian_nights/465.txt',\n",
       " 'data/arabian_nights/466.txt',\n",
       " 'data/arabian_nights/467.txt',\n",
       " 'data/arabian_nights/468.txt',\n",
       " 'data/arabian_nights/469.txt',\n",
       " 'data/arabian_nights/47.txt',\n",
       " 'data/arabian_nights/470.txt',\n",
       " 'data/arabian_nights/471.txt',\n",
       " 'data/arabian_nights/472.txt',\n",
       " 'data/arabian_nights/473.txt',\n",
       " 'data/arabian_nights/474.txt',\n",
       " 'data/arabian_nights/475.txt',\n",
       " 'data/arabian_nights/476.txt',\n",
       " 'data/arabian_nights/477.txt',\n",
       " 'data/arabian_nights/478.txt',\n",
       " 'data/arabian_nights/479.txt',\n",
       " 'data/arabian_nights/48.txt',\n",
       " 'data/arabian_nights/480.txt',\n",
       " 'data/arabian_nights/481.txt',\n",
       " 'data/arabian_nights/482.txt',\n",
       " 'data/arabian_nights/483.txt',\n",
       " 'data/arabian_nights/484.txt',\n",
       " 'data/arabian_nights/485.txt',\n",
       " 'data/arabian_nights/486.txt',\n",
       " 'data/arabian_nights/487.txt',\n",
       " 'data/arabian_nights/488.txt',\n",
       " 'data/arabian_nights/489.txt',\n",
       " 'data/arabian_nights/49.txt',\n",
       " 'data/arabian_nights/490.txt',\n",
       " 'data/arabian_nights/491.txt',\n",
       " 'data/arabian_nights/492.txt',\n",
       " 'data/arabian_nights/493.txt',\n",
       " 'data/arabian_nights/494.txt',\n",
       " 'data/arabian_nights/495.txt',\n",
       " 'data/arabian_nights/496.txt',\n",
       " 'data/arabian_nights/497.txt',\n",
       " 'data/arabian_nights/498.txt',\n",
       " 'data/arabian_nights/499.txt',\n",
       " 'data/arabian_nights/5.txt',\n",
       " 'data/arabian_nights/50.txt',\n",
       " 'data/arabian_nights/500.txt',\n",
       " 'data/arabian_nights/501.txt',\n",
       " 'data/arabian_nights/502.txt',\n",
       " 'data/arabian_nights/503.txt',\n",
       " 'data/arabian_nights/504.txt',\n",
       " 'data/arabian_nights/505.txt',\n",
       " 'data/arabian_nights/506.txt',\n",
       " 'data/arabian_nights/507.txt',\n",
       " 'data/arabian_nights/508.txt',\n",
       " 'data/arabian_nights/509.txt',\n",
       " 'data/arabian_nights/51.txt',\n",
       " 'data/arabian_nights/510.txt',\n",
       " 'data/arabian_nights/511.txt',\n",
       " 'data/arabian_nights/512.txt',\n",
       " 'data/arabian_nights/513.txt',\n",
       " 'data/arabian_nights/514.txt',\n",
       " 'data/arabian_nights/515.txt',\n",
       " 'data/arabian_nights/516.txt',\n",
       " 'data/arabian_nights/517.txt',\n",
       " 'data/arabian_nights/518.txt',\n",
       " 'data/arabian_nights/519.txt',\n",
       " 'data/arabian_nights/52.txt',\n",
       " 'data/arabian_nights/520.txt',\n",
       " 'data/arabian_nights/521.txt',\n",
       " 'data/arabian_nights/522.txt',\n",
       " 'data/arabian_nights/523.txt',\n",
       " 'data/arabian_nights/524.txt',\n",
       " 'data/arabian_nights/525.txt',\n",
       " 'data/arabian_nights/526.txt',\n",
       " 'data/arabian_nights/527.txt',\n",
       " 'data/arabian_nights/528.txt',\n",
       " 'data/arabian_nights/529.txt',\n",
       " 'data/arabian_nights/53.txt',\n",
       " 'data/arabian_nights/530.txt',\n",
       " 'data/arabian_nights/531.txt',\n",
       " 'data/arabian_nights/532.txt',\n",
       " 'data/arabian_nights/533.txt',\n",
       " 'data/arabian_nights/534.txt',\n",
       " 'data/arabian_nights/535.txt',\n",
       " 'data/arabian_nights/536.txt',\n",
       " 'data/arabian_nights/537.txt',\n",
       " 'data/arabian_nights/538.txt',\n",
       " 'data/arabian_nights/539.txt',\n",
       " 'data/arabian_nights/54.txt',\n",
       " 'data/arabian_nights/540.txt',\n",
       " 'data/arabian_nights/541.txt',\n",
       " 'data/arabian_nights/542.txt',\n",
       " 'data/arabian_nights/543.txt',\n",
       " 'data/arabian_nights/544.txt',\n",
       " 'data/arabian_nights/545.txt',\n",
       " 'data/arabian_nights/546.txt',\n",
       " 'data/arabian_nights/547.txt',\n",
       " 'data/arabian_nights/548.txt',\n",
       " 'data/arabian_nights/549.txt',\n",
       " 'data/arabian_nights/55.txt',\n",
       " 'data/arabian_nights/550.txt',\n",
       " 'data/arabian_nights/551.txt',\n",
       " 'data/arabian_nights/552.txt',\n",
       " 'data/arabian_nights/553.txt',\n",
       " 'data/arabian_nights/554.txt',\n",
       " 'data/arabian_nights/555.txt',\n",
       " 'data/arabian_nights/556.txt',\n",
       " 'data/arabian_nights/557.txt',\n",
       " 'data/arabian_nights/558.txt',\n",
       " 'data/arabian_nights/559.txt',\n",
       " 'data/arabian_nights/56.txt',\n",
       " 'data/arabian_nights/560.txt',\n",
       " 'data/arabian_nights/561.txt',\n",
       " 'data/arabian_nights/562.txt',\n",
       " 'data/arabian_nights/563.txt',\n",
       " 'data/arabian_nights/564.txt',\n",
       " 'data/arabian_nights/565.txt',\n",
       " 'data/arabian_nights/566.txt',\n",
       " 'data/arabian_nights/567.txt',\n",
       " 'data/arabian_nights/568.txt',\n",
       " 'data/arabian_nights/569.txt',\n",
       " 'data/arabian_nights/57.txt',\n",
       " 'data/arabian_nights/570.txt',\n",
       " 'data/arabian_nights/571.txt',\n",
       " 'data/arabian_nights/572.txt',\n",
       " 'data/arabian_nights/573.txt',\n",
       " 'data/arabian_nights/574.txt',\n",
       " 'data/arabian_nights/575.txt',\n",
       " 'data/arabian_nights/576.txt',\n",
       " 'data/arabian_nights/577.txt',\n",
       " 'data/arabian_nights/578.txt',\n",
       " 'data/arabian_nights/579.txt',\n",
       " 'data/arabian_nights/58.txt',\n",
       " 'data/arabian_nights/580.txt',\n",
       " 'data/arabian_nights/581.txt',\n",
       " 'data/arabian_nights/582.txt',\n",
       " 'data/arabian_nights/583.txt',\n",
       " 'data/arabian_nights/584.txt',\n",
       " 'data/arabian_nights/585.txt',\n",
       " 'data/arabian_nights/586.txt',\n",
       " 'data/arabian_nights/587.txt',\n",
       " 'data/arabian_nights/588.txt',\n",
       " 'data/arabian_nights/589.txt',\n",
       " 'data/arabian_nights/59.txt',\n",
       " 'data/arabian_nights/590.txt',\n",
       " 'data/arabian_nights/591.txt',\n",
       " 'data/arabian_nights/592.txt',\n",
       " 'data/arabian_nights/593.txt',\n",
       " 'data/arabian_nights/594.txt',\n",
       " 'data/arabian_nights/595.txt',\n",
       " 'data/arabian_nights/596.txt',\n",
       " 'data/arabian_nights/597.txt',\n",
       " 'data/arabian_nights/598.txt',\n",
       " 'data/arabian_nights/599.txt',\n",
       " 'data/arabian_nights/6.txt',\n",
       " 'data/arabian_nights/60.txt',\n",
       " 'data/arabian_nights/600.txt',\n",
       " 'data/arabian_nights/601.txt',\n",
       " 'data/arabian_nights/602.txt',\n",
       " 'data/arabian_nights/603.txt',\n",
       " 'data/arabian_nights/604.txt',\n",
       " 'data/arabian_nights/605.txt',\n",
       " 'data/arabian_nights/606.txt',\n",
       " 'data/arabian_nights/607.txt',\n",
       " 'data/arabian_nights/608.txt',\n",
       " 'data/arabian_nights/609.txt',\n",
       " 'data/arabian_nights/61.txt',\n",
       " 'data/arabian_nights/610.txt',\n",
       " 'data/arabian_nights/611.txt',\n",
       " 'data/arabian_nights/612.txt',\n",
       " 'data/arabian_nights/613.txt',\n",
       " 'data/arabian_nights/614.txt',\n",
       " 'data/arabian_nights/615.txt',\n",
       " 'data/arabian_nights/616.txt',\n",
       " 'data/arabian_nights/617.txt',\n",
       " 'data/arabian_nights/618.txt',\n",
       " 'data/arabian_nights/619.txt',\n",
       " 'data/arabian_nights/62.txt',\n",
       " 'data/arabian_nights/620.txt',\n",
       " 'data/arabian_nights/621.txt',\n",
       " 'data/arabian_nights/622.txt',\n",
       " 'data/arabian_nights/623.txt',\n",
       " 'data/arabian_nights/624.txt',\n",
       " 'data/arabian_nights/625.txt',\n",
       " 'data/arabian_nights/626.txt',\n",
       " 'data/arabian_nights/627.txt',\n",
       " 'data/arabian_nights/628.txt',\n",
       " 'data/arabian_nights/629.txt',\n",
       " 'data/arabian_nights/63.txt',\n",
       " 'data/arabian_nights/630.txt',\n",
       " 'data/arabian_nights/631.txt',\n",
       " 'data/arabian_nights/632.txt',\n",
       " 'data/arabian_nights/633.txt',\n",
       " 'data/arabian_nights/634.txt',\n",
       " 'data/arabian_nights/635.txt',\n",
       " 'data/arabian_nights/636.txt',\n",
       " 'data/arabian_nights/637.txt',\n",
       " 'data/arabian_nights/638.txt',\n",
       " 'data/arabian_nights/639.txt',\n",
       " 'data/arabian_nights/64.txt',\n",
       " 'data/arabian_nights/640.txt',\n",
       " 'data/arabian_nights/641.txt',\n",
       " 'data/arabian_nights/642.txt',\n",
       " 'data/arabian_nights/643.txt',\n",
       " 'data/arabian_nights/644.txt',\n",
       " 'data/arabian_nights/645.txt',\n",
       " 'data/arabian_nights/646.txt',\n",
       " 'data/arabian_nights/647.txt',\n",
       " 'data/arabian_nights/648.txt',\n",
       " 'data/arabian_nights/649.txt',\n",
       " 'data/arabian_nights/65.txt',\n",
       " 'data/arabian_nights/650.txt',\n",
       " 'data/arabian_nights/651.txt',\n",
       " 'data/arabian_nights/652.txt',\n",
       " 'data/arabian_nights/653.txt',\n",
       " 'data/arabian_nights/654.txt',\n",
       " 'data/arabian_nights/655.txt',\n",
       " 'data/arabian_nights/656.txt',\n",
       " 'data/arabian_nights/657.txt',\n",
       " 'data/arabian_nights/658.txt',\n",
       " 'data/arabian_nights/659.txt',\n",
       " 'data/arabian_nights/66.txt',\n",
       " 'data/arabian_nights/660.txt',\n",
       " 'data/arabian_nights/661.txt',\n",
       " 'data/arabian_nights/662.txt',\n",
       " 'data/arabian_nights/663.txt',\n",
       " 'data/arabian_nights/664.txt',\n",
       " 'data/arabian_nights/665.txt',\n",
       " 'data/arabian_nights/666.txt',\n",
       " 'data/arabian_nights/667.txt',\n",
       " 'data/arabian_nights/668.txt',\n",
       " 'data/arabian_nights/669.txt',\n",
       " 'data/arabian_nights/67.txt',\n",
       " 'data/arabian_nights/670.txt',\n",
       " 'data/arabian_nights/671.txt',\n",
       " 'data/arabian_nights/672.txt',\n",
       " 'data/arabian_nights/673.txt',\n",
       " 'data/arabian_nights/674.txt',\n",
       " 'data/arabian_nights/675.txt',\n",
       " 'data/arabian_nights/676.txt',\n",
       " 'data/arabian_nights/677.txt',\n",
       " 'data/arabian_nights/678.txt',\n",
       " 'data/arabian_nights/679.txt',\n",
       " 'data/arabian_nights/68.txt',\n",
       " 'data/arabian_nights/680.txt',\n",
       " 'data/arabian_nights/681.txt',\n",
       " 'data/arabian_nights/682.txt',\n",
       " 'data/arabian_nights/683.txt',\n",
       " 'data/arabian_nights/684.txt',\n",
       " 'data/arabian_nights/685.txt',\n",
       " 'data/arabian_nights/686.txt',\n",
       " 'data/arabian_nights/687.txt',\n",
       " 'data/arabian_nights/688.txt',\n",
       " 'data/arabian_nights/689.txt',\n",
       " 'data/arabian_nights/69.txt',\n",
       " 'data/arabian_nights/690.txt',\n",
       " 'data/arabian_nights/691.txt',\n",
       " 'data/arabian_nights/692.txt',\n",
       " 'data/arabian_nights/693.txt',\n",
       " 'data/arabian_nights/694.txt',\n",
       " 'data/arabian_nights/695.txt',\n",
       " 'data/arabian_nights/696.txt',\n",
       " 'data/arabian_nights/697.txt',\n",
       " 'data/arabian_nights/698.txt',\n",
       " 'data/arabian_nights/699.txt',\n",
       " 'data/arabian_nights/7.txt',\n",
       " 'data/arabian_nights/70.txt',\n",
       " 'data/arabian_nights/700.txt',\n",
       " 'data/arabian_nights/701.txt',\n",
       " 'data/arabian_nights/702.txt',\n",
       " 'data/arabian_nights/703.txt',\n",
       " 'data/arabian_nights/704.txt',\n",
       " 'data/arabian_nights/705.txt',\n",
       " 'data/arabian_nights/706.txt',\n",
       " 'data/arabian_nights/707.txt',\n",
       " 'data/arabian_nights/708.txt',\n",
       " 'data/arabian_nights/709.txt',\n",
       " 'data/arabian_nights/71.txt',\n",
       " 'data/arabian_nights/710.txt',\n",
       " 'data/arabian_nights/711.txt',\n",
       " 'data/arabian_nights/712.txt',\n",
       " 'data/arabian_nights/713.txt',\n",
       " 'data/arabian_nights/714.txt',\n",
       " 'data/arabian_nights/715.txt',\n",
       " 'data/arabian_nights/716.txt',\n",
       " 'data/arabian_nights/717.txt',\n",
       " 'data/arabian_nights/718.txt',\n",
       " 'data/arabian_nights/719.txt',\n",
       " 'data/arabian_nights/72.txt',\n",
       " 'data/arabian_nights/720.txt',\n",
       " 'data/arabian_nights/721.txt',\n",
       " 'data/arabian_nights/722.txt',\n",
       " 'data/arabian_nights/723.txt',\n",
       " 'data/arabian_nights/724.txt',\n",
       " 'data/arabian_nights/725.txt',\n",
       " 'data/arabian_nights/726.txt',\n",
       " 'data/arabian_nights/727.txt',\n",
       " 'data/arabian_nights/728.txt',\n",
       " 'data/arabian_nights/729.txt',\n",
       " 'data/arabian_nights/73.txt',\n",
       " 'data/arabian_nights/730.txt',\n",
       " 'data/arabian_nights/731.txt',\n",
       " 'data/arabian_nights/732.txt',\n",
       " 'data/arabian_nights/733.txt',\n",
       " 'data/arabian_nights/734.txt',\n",
       " 'data/arabian_nights/735.txt',\n",
       " 'data/arabian_nights/736.txt',\n",
       " 'data/arabian_nights/737.txt',\n",
       " 'data/arabian_nights/738.txt',\n",
       " 'data/arabian_nights/739.txt',\n",
       " 'data/arabian_nights/74.txt',\n",
       " 'data/arabian_nights/740.txt',\n",
       " 'data/arabian_nights/741.txt',\n",
       " 'data/arabian_nights/742.txt',\n",
       " 'data/arabian_nights/743.txt',\n",
       " 'data/arabian_nights/744.txt',\n",
       " 'data/arabian_nights/745.txt',\n",
       " 'data/arabian_nights/746.txt',\n",
       " 'data/arabian_nights/747.txt',\n",
       " 'data/arabian_nights/748.txt',\n",
       " 'data/arabian_nights/749.txt',\n",
       " 'data/arabian_nights/75.txt',\n",
       " 'data/arabian_nights/750.txt',\n",
       " 'data/arabian_nights/751.txt',\n",
       " 'data/arabian_nights/752.txt',\n",
       " 'data/arabian_nights/753.txt',\n",
       " 'data/arabian_nights/754.txt',\n",
       " 'data/arabian_nights/755.txt',\n",
       " 'data/arabian_nights/756.txt',\n",
       " 'data/arabian_nights/757.txt',\n",
       " 'data/arabian_nights/758.txt',\n",
       " 'data/arabian_nights/759.txt',\n",
       " 'data/arabian_nights/76.txt',\n",
       " 'data/arabian_nights/760.txt',\n",
       " 'data/arabian_nights/761.txt',\n",
       " 'data/arabian_nights/762.txt',\n",
       " 'data/arabian_nights/763.txt',\n",
       " 'data/arabian_nights/764.txt',\n",
       " 'data/arabian_nights/765.txt',\n",
       " 'data/arabian_nights/766.txt',\n",
       " 'data/arabian_nights/767.txt',\n",
       " 'data/arabian_nights/768.txt',\n",
       " 'data/arabian_nights/769.txt',\n",
       " 'data/arabian_nights/77.txt',\n",
       " 'data/arabian_nights/770.txt',\n",
       " 'data/arabian_nights/771.txt',\n",
       " 'data/arabian_nights/772.txt',\n",
       " 'data/arabian_nights/773.txt',\n",
       " 'data/arabian_nights/774.txt',\n",
       " 'data/arabian_nights/775.txt',\n",
       " 'data/arabian_nights/776.txt',\n",
       " 'data/arabian_nights/777.txt',\n",
       " 'data/arabian_nights/778.txt',\n",
       " 'data/arabian_nights/779.txt',\n",
       " 'data/arabian_nights/78.txt',\n",
       " 'data/arabian_nights/780.txt',\n",
       " 'data/arabian_nights/781.txt',\n",
       " 'data/arabian_nights/782.txt',\n",
       " 'data/arabian_nights/783.txt',\n",
       " 'data/arabian_nights/784.txt',\n",
       " 'data/arabian_nights/785.txt',\n",
       " 'data/arabian_nights/786.txt',\n",
       " 'data/arabian_nights/787.txt',\n",
       " 'data/arabian_nights/788.txt',\n",
       " 'data/arabian_nights/789.txt',\n",
       " 'data/arabian_nights/79.txt',\n",
       " 'data/arabian_nights/790.txt',\n",
       " 'data/arabian_nights/791.txt',\n",
       " 'data/arabian_nights/792.txt',\n",
       " 'data/arabian_nights/793.txt',\n",
       " 'data/arabian_nights/794.txt',\n",
       " 'data/arabian_nights/795.txt',\n",
       " 'data/arabian_nights/796.txt',\n",
       " 'data/arabian_nights/797.txt',\n",
       " 'data/arabian_nights/798.txt',\n",
       " 'data/arabian_nights/799.txt',\n",
       " 'data/arabian_nights/8.txt',\n",
       " 'data/arabian_nights/80.txt',\n",
       " 'data/arabian_nights/800.txt',\n",
       " 'data/arabian_nights/801.txt',\n",
       " 'data/arabian_nights/802.txt',\n",
       " 'data/arabian_nights/803.txt',\n",
       " 'data/arabian_nights/804.txt',\n",
       " 'data/arabian_nights/805.txt',\n",
       " 'data/arabian_nights/806.txt',\n",
       " 'data/arabian_nights/807.txt',\n",
       " 'data/arabian_nights/808.txt',\n",
       " 'data/arabian_nights/809.txt',\n",
       " 'data/arabian_nights/81.txt',\n",
       " 'data/arabian_nights/810.txt',\n",
       " 'data/arabian_nights/811.txt',\n",
       " 'data/arabian_nights/812.txt',\n",
       " 'data/arabian_nights/813.txt',\n",
       " 'data/arabian_nights/814.txt',\n",
       " 'data/arabian_nights/815.txt',\n",
       " 'data/arabian_nights/816.txt',\n",
       " 'data/arabian_nights/817.txt',\n",
       " 'data/arabian_nights/818.txt',\n",
       " 'data/arabian_nights/819.txt',\n",
       " 'data/arabian_nights/82.txt',\n",
       " 'data/arabian_nights/820.txt',\n",
       " 'data/arabian_nights/821.txt',\n",
       " 'data/arabian_nights/822.txt',\n",
       " 'data/arabian_nights/823.txt',\n",
       " 'data/arabian_nights/824.txt',\n",
       " 'data/arabian_nights/825.txt',\n",
       " 'data/arabian_nights/826.txt',\n",
       " 'data/arabian_nights/827.txt',\n",
       " 'data/arabian_nights/828.txt',\n",
       " 'data/arabian_nights/829.txt',\n",
       " 'data/arabian_nights/83.txt',\n",
       " 'data/arabian_nights/830.txt',\n",
       " 'data/arabian_nights/831.txt',\n",
       " 'data/arabian_nights/832.txt',\n",
       " 'data/arabian_nights/833.txt',\n",
       " 'data/arabian_nights/834.txt',\n",
       " 'data/arabian_nights/835.txt',\n",
       " 'data/arabian_nights/836.txt',\n",
       " 'data/arabian_nights/837.txt',\n",
       " 'data/arabian_nights/838.txt',\n",
       " 'data/arabian_nights/839.txt',\n",
       " 'data/arabian_nights/84.txt',\n",
       " 'data/arabian_nights/840.txt',\n",
       " 'data/arabian_nights/841.txt',\n",
       " 'data/arabian_nights/842.txt',\n",
       " 'data/arabian_nights/843.txt',\n",
       " 'data/arabian_nights/844.txt',\n",
       " 'data/arabian_nights/845.txt',\n",
       " 'data/arabian_nights/846.txt',\n",
       " 'data/arabian_nights/847.txt',\n",
       " 'data/arabian_nights/848.txt',\n",
       " 'data/arabian_nights/849.txt',\n",
       " 'data/arabian_nights/85.txt',\n",
       " 'data/arabian_nights/850.txt',\n",
       " 'data/arabian_nights/851.txt',\n",
       " 'data/arabian_nights/852.txt',\n",
       " 'data/arabian_nights/853.txt',\n",
       " 'data/arabian_nights/854.txt',\n",
       " 'data/arabian_nights/855.txt',\n",
       " 'data/arabian_nights/856.txt',\n",
       " 'data/arabian_nights/857.txt',\n",
       " 'data/arabian_nights/858.txt',\n",
       " 'data/arabian_nights/859.txt',\n",
       " 'data/arabian_nights/86.txt',\n",
       " 'data/arabian_nights/860.txt',\n",
       " 'data/arabian_nights/861.txt',\n",
       " 'data/arabian_nights/862.txt',\n",
       " 'data/arabian_nights/863.txt',\n",
       " 'data/arabian_nights/864.txt',\n",
       " 'data/arabian_nights/865.txt',\n",
       " 'data/arabian_nights/866.txt',\n",
       " 'data/arabian_nights/867.txt',\n",
       " 'data/arabian_nights/868.txt',\n",
       " 'data/arabian_nights/869.txt',\n",
       " 'data/arabian_nights/87.txt',\n",
       " 'data/arabian_nights/870.txt',\n",
       " 'data/arabian_nights/871.txt',\n",
       " 'data/arabian_nights/872.txt',\n",
       " 'data/arabian_nights/873.txt',\n",
       " 'data/arabian_nights/874.txt',\n",
       " 'data/arabian_nights/875.txt',\n",
       " 'data/arabian_nights/876.txt',\n",
       " 'data/arabian_nights/877.txt',\n",
       " 'data/arabian_nights/878.txt',\n",
       " 'data/arabian_nights/879.txt',\n",
       " 'data/arabian_nights/88.txt',\n",
       " 'data/arabian_nights/880.txt',\n",
       " 'data/arabian_nights/881.txt',\n",
       " 'data/arabian_nights/882.txt',\n",
       " 'data/arabian_nights/883.txt',\n",
       " 'data/arabian_nights/884.txt',\n",
       " 'data/arabian_nights/885.txt',\n",
       " 'data/arabian_nights/886.txt',\n",
       " 'data/arabian_nights/887.txt',\n",
       " 'data/arabian_nights/888.txt',\n",
       " 'data/arabian_nights/889.txt',\n",
       " 'data/arabian_nights/89.txt',\n",
       " 'data/arabian_nights/890.txt',\n",
       " 'data/arabian_nights/891.txt',\n",
       " 'data/arabian_nights/892.txt',\n",
       " 'data/arabian_nights/893.txt',\n",
       " 'data/arabian_nights/894.txt',\n",
       " 'data/arabian_nights/895.txt',\n",
       " 'data/arabian_nights/896.txt',\n",
       " 'data/arabian_nights/897.txt',\n",
       " 'data/arabian_nights/898.txt',\n",
       " 'data/arabian_nights/899.txt',\n",
       " 'data/arabian_nights/9.txt',\n",
       " 'data/arabian_nights/90.txt',\n",
       " 'data/arabian_nights/900.txt',\n",
       " 'data/arabian_nights/901.txt',\n",
       " 'data/arabian_nights/902.txt',\n",
       " 'data/arabian_nights/903.txt',\n",
       " 'data/arabian_nights/904.txt',\n",
       " 'data/arabian_nights/905.txt',\n",
       " 'data/arabian_nights/906.txt',\n",
       " 'data/arabian_nights/907.txt',\n",
       " 'data/arabian_nights/908.txt',\n",
       " 'data/arabian_nights/909.txt',\n",
       " 'data/arabian_nights/91.txt',\n",
       " 'data/arabian_nights/910.txt',\n",
       " 'data/arabian_nights/911.txt',\n",
       " 'data/arabian_nights/912.txt',\n",
       " 'data/arabian_nights/913.txt',\n",
       " 'data/arabian_nights/914.txt',\n",
       " 'data/arabian_nights/915.txt',\n",
       " 'data/arabian_nights/916.txt',\n",
       " 'data/arabian_nights/917.txt',\n",
       " 'data/arabian_nights/918.txt',\n",
       " 'data/arabian_nights/919.txt',\n",
       " 'data/arabian_nights/92.txt',\n",
       " 'data/arabian_nights/920.txt',\n",
       " 'data/arabian_nights/921.txt',\n",
       " 'data/arabian_nights/922.txt',\n",
       " 'data/arabian_nights/923.txt',\n",
       " 'data/arabian_nights/924.txt',\n",
       " 'data/arabian_nights/925.txt',\n",
       " 'data/arabian_nights/926.txt',\n",
       " 'data/arabian_nights/927.txt',\n",
       " 'data/arabian_nights/928.txt',\n",
       " 'data/arabian_nights/929.txt',\n",
       " 'data/arabian_nights/93.txt',\n",
       " 'data/arabian_nights/930.txt',\n",
       " 'data/arabian_nights/931.txt',\n",
       " 'data/arabian_nights/932.txt',\n",
       " 'data/arabian_nights/933.txt',\n",
       " 'data/arabian_nights/934.txt',\n",
       " 'data/arabian_nights/935.txt',\n",
       " 'data/arabian_nights/936.txt',\n",
       " 'data/arabian_nights/937.txt',\n",
       " 'data/arabian_nights/938.txt',\n",
       " 'data/arabian_nights/939.txt',\n",
       " 'data/arabian_nights/94.txt',\n",
       " 'data/arabian_nights/940.txt',\n",
       " 'data/arabian_nights/941.txt',\n",
       " 'data/arabian_nights/942.txt',\n",
       " 'data/arabian_nights/943.txt',\n",
       " 'data/arabian_nights/944.txt',\n",
       " 'data/arabian_nights/945.txt',\n",
       " 'data/arabian_nights/946.txt',\n",
       " 'data/arabian_nights/947.txt',\n",
       " 'data/arabian_nights/948.txt',\n",
       " 'data/arabian_nights/949.txt',\n",
       " 'data/arabian_nights/95.txt',\n",
       " 'data/arabian_nights/950.txt',\n",
       " 'data/arabian_nights/951.txt',\n",
       " 'data/arabian_nights/952.txt',\n",
       " 'data/arabian_nights/953.txt',\n",
       " 'data/arabian_nights/954.txt',\n",
       " 'data/arabian_nights/955.txt',\n",
       " 'data/arabian_nights/956.txt',\n",
       " 'data/arabian_nights/957.txt',\n",
       " 'data/arabian_nights/958.txt',\n",
       " 'data/arabian_nights/959.txt',\n",
       " 'data/arabian_nights/96.txt',\n",
       " 'data/arabian_nights/960.txt',\n",
       " 'data/arabian_nights/961.txt',\n",
       " 'data/arabian_nights/962.txt',\n",
       " 'data/arabian_nights/963.txt',\n",
       " 'data/arabian_nights/964.txt',\n",
       " 'data/arabian_nights/965.txt',\n",
       " 'data/arabian_nights/966.txt',\n",
       " 'data/arabian_nights/967.txt',\n",
       " 'data/arabian_nights/968.txt',\n",
       " 'data/arabian_nights/969.txt',\n",
       " 'data/arabian_nights/97.txt',\n",
       " 'data/arabian_nights/970.txt',\n",
       " 'data/arabian_nights/971.txt',\n",
       " 'data/arabian_nights/972.txt',\n",
       " 'data/arabian_nights/973.txt',\n",
       " 'data/arabian_nights/974.txt',\n",
       " 'data/arabian_nights/975.txt',\n",
       " 'data/arabian_nights/976.txt',\n",
       " 'data/arabian_nights/977.txt',\n",
       " 'data/arabian_nights/978.txt',\n",
       " 'data/arabian_nights/979.txt',\n",
       " 'data/arabian_nights/98.txt',\n",
       " 'data/arabian_nights/980.txt',\n",
       " 'data/arabian_nights/981.txt',\n",
       " 'data/arabian_nights/982.txt',\n",
       " 'data/arabian_nights/983.txt',\n",
       " 'data/arabian_nights/984.txt',\n",
       " 'data/arabian_nights/985.txt',\n",
       " 'data/arabian_nights/986.txt',\n",
       " 'data/arabian_nights/987.txt',\n",
       " 'data/arabian_nights/988.txt',\n",
       " 'data/arabian_nights/989.txt',\n",
       " 'data/arabian_nights/99.txt',\n",
       " 'data/arabian_nights/990.txt',\n",
       " 'data/arabian_nights/991.txt',\n",
       " 'data/arabian_nights/992.txt',\n",
       " 'data/arabian_nights/993.txt',\n",
       " 'data/arabian_nights/994.txt',\n",
       " 'data/arabian_nights/995.txt',\n",
       " 'data/arabian_nights/996.txt',\n",
       " 'data/arabian_nights/997.txt',\n",
       " 'data/arabian_nights/998.txt',\n",
       " 'data/arabian_nights/999.txt']"
      ]
     },
     "execution_count": 55,
     "metadata": {},
     "output_type": "execute_result"
    }
   ],
   "source": [
    "list_textfiles('data/arabian_nights')"
   ]
  },
  {
   "cell_type": "markdown",
   "metadata": {},
   "source": [
    "Next we call the function `.sort()` on this list and supply as keyword our function `get_night`:"
   ]
  },
  {
   "cell_type": "code",
   "execution_count": 41,
   "metadata": {},
   "outputs": [
    {
     "data": {
      "text/plain": [
       "['data/arabian_nights/1.txt',\n",
       " 'data/arabian_nights/2.txt',\n",
       " 'data/arabian_nights/3.txt',\n",
       " 'data/arabian_nights/4.txt',\n",
       " 'data/arabian_nights/5.txt',\n",
       " 'data/arabian_nights/6.txt',\n",
       " 'data/arabian_nights/7.txt',\n",
       " 'data/arabian_nights/8.txt',\n",
       " 'data/arabian_nights/9.txt',\n",
       " 'data/arabian_nights/10.txt',\n",
       " 'data/arabian_nights/11.txt',\n",
       " 'data/arabian_nights/12.txt',\n",
       " 'data/arabian_nights/13.txt',\n",
       " 'data/arabian_nights/14.txt',\n",
       " 'data/arabian_nights/15.txt',\n",
       " 'data/arabian_nights/16.txt',\n",
       " 'data/arabian_nights/17.txt',\n",
       " 'data/arabian_nights/18.txt',\n",
       " 'data/arabian_nights/19.txt',\n",
       " 'data/arabian_nights/20.txt']"
      ]
     },
     "execution_count": 41,
     "metadata": {},
     "output_type": "execute_result"
    }
   ],
   "source": [
    "def get_night(filepath):\n",
    "    return int(os.path.splitext(os.path.basename(filepath))[0])\n",
    "\n",
    "filenames = list_textfiles('data/arabian_nights')\n",
    "filenames.sort(key=get_night)\n",
    "filenames[:20]"
   ]
  },
  {
   "cell_type": "markdown",
   "metadata": {},
   "source": [
    "As you can see, we now have a perfectly chronologically ordered list of filenames. But how, **HOW!** did that work? As you might have guessed, the argument of `sort`: `key=get_night`, has something to do with all this magic. Without this argument, Python would just sort the filenames alphabeticaly:"
   ]
  },
  {
   "cell_type": "code",
   "execution_count": 63,
   "metadata": {},
   "outputs": [
    {
     "data": {
      "text/plain": [
       "['data/arabian_nights/1.txt',\n",
       " 'data/arabian_nights/10.txt',\n",
       " 'data/arabian_nights/100.txt',\n",
       " 'data/arabian_nights/1000.txt',\n",
       " 'data/arabian_nights/1001.txt',\n",
       " 'data/arabian_nights/101.txt',\n",
       " 'data/arabian_nights/102.txt',\n",
       " 'data/arabian_nights/103.txt',\n",
       " 'data/arabian_nights/104.txt',\n",
       " 'data/arabian_nights/105.txt',\n",
       " 'data/arabian_nights/106.txt',\n",
       " 'data/arabian_nights/107.txt',\n",
       " 'data/arabian_nights/108.txt',\n",
       " 'data/arabian_nights/109.txt',\n",
       " 'data/arabian_nights/11.txt',\n",
       " 'data/arabian_nights/110.txt',\n",
       " 'data/arabian_nights/111.txt',\n",
       " 'data/arabian_nights/112.txt',\n",
       " 'data/arabian_nights/113.txt',\n",
       " 'data/arabian_nights/114.txt']"
      ]
     },
     "execution_count": 63,
     "metadata": {},
     "output_type": "execute_result"
    }
   ],
   "source": [
    "filenames = list_textfiles('data/arabian_nights')\n",
    "# filenames.sort()\n",
    "filenames[:20]"
   ]
  },
  {
   "cell_type": "markdown",
   "metadata": {},
   "source": [
    "However, if we supply a function to `key`, Python will internally first apply that function to all items we want to sort. In our case this means Python converts all filepaths to integers. After that Python sorts the list. Then for each converted item it returns the corresponding item in the original list. (Technically this is not an accurate description, but it basically comes down to this.)\n",
    "\n",
    "If you still feel a little dizzy after all this, don't be afraid. Sometimes it is good enough to use a particular piece of code even if you don't completely understand it. We can now use these functions to reload the corpus, this time in chronological order:"
   ]
  },
  {
   "cell_type": "code",
   "execution_count": 46,
   "metadata": {},
   "outputs": [],
   "source": [
    "corpus = []\n",
    "filenames = list_textfiles(\"data/arabian_nights\")\n",
    "filenames.sort(key=get_night)\n",
    "for filename in filenames:\n",
    "    text = read_file(filename)\n",
    "    corpus.append(tokenize(text))"
   ]
  },
  {
   "cell_type": "code",
   "execution_count": 67,
   "metadata": {},
   "outputs": [],
   "source": [
    "corpus = []\n",
    "filenames = os.listdir(\"data/arabian_nights\")\n",
    "filenames.sort(key=get_night)\n",
    "for filename in filenames:\n",
    "    with open(os.path.join(\"data\", \"arabian_nights\", filename), mode='r') as file:\n",
    "        text = file.read()\n",
    "        corpus.append(tokenize(text))"
   ]
  },
  {
   "cell_type": "markdown",
   "metadata": {},
   "source": [
    "---"
   ]
  },
  {
   "cell_type": "markdown",
   "metadata": {},
   "source": [
    "### Exploratory data analysis"
   ]
  },
  {
   "cell_type": "markdown",
   "metadata": {},
   "source": [
    "As a first exploratory data analysis, we are going to compute for each night how many sentences it contains and how many words. It is quite easy to count the number of sentences per night, since each night is represented by a list of sentences."
   ]
  },
  {
   "cell_type": "code",
   "execution_count": 82,
   "metadata": {},
   "outputs": [
    {
     "name": "stdout",
     "output_type": "stream",
     "text": [
      "[389, 120, 91, 84, 146, 60, 113, 94, 166, 156]\n",
      "41.11511511511512\n"
     ]
    }
   ],
   "source": [
    "sentences_per_night = []\n",
    "for night in corpus:\n",
    "    sentences_per_night.append(len(night))\n",
    "print(sentences_per_night[:10])\n",
    "print(np.mean(sentences_per_night))"
   ]
  },
  {
   "cell_type": "markdown",
   "metadata": {},
   "source": [
    "Using the function `max` we can find out what the highest number of sentences is:"
   ]
  },
  {
   "cell_type": "code",
   "execution_count": 74,
   "metadata": {},
   "outputs": [
    {
     "name": "stdout",
     "output_type": "stream",
     "text": [
      "395 842\n"
     ]
    }
   ],
   "source": [
    "import numpy as np\n",
    "print(max(sentences_per_night), np.argmax(sentences_per_night))"
   ]
  },
  {
   "cell_type": "markdown",
   "metadata": {},
   "source": [
    "Similarly, if we would like to now what the lowest number of sentences is, we use the function `min`:"
   ]
  },
  {
   "cell_type": "code",
   "execution_count": 73,
   "metadata": {},
   "outputs": [
    {
     "name": "stdout",
     "output_type": "stream",
     "text": [
      "6 198\n"
     ]
    }
   ],
   "source": [
    "print(min(sentences_per_night), np.argmin(sentences_per_night))"
   ]
  },
  {
   "cell_type": "markdown",
   "metadata": {},
   "source": [
    "---"
   ]
  },
  {
   "cell_type": "markdown",
   "metadata": {},
   "source": [
    "#### Quiz!"
   ]
  },
  {
   "cell_type": "markdown",
   "metadata": {},
   "source": [
    "The function `sum` takes a list of numbers as input and returns the sum:"
   ]
  },
  {
   "cell_type": "code",
   "execution_count": 75,
   "metadata": {},
   "outputs": [
    {
     "name": "stdout",
     "output_type": "stream",
     "text": [
      "11\n"
     ]
    }
   ],
   "source": [
    "print(sum([1, 3, 3, 4]))"
   ]
  },
  {
   "cell_type": "markdown",
   "metadata": {},
   "source": [
    "Use this function to compute the average number of sentences per night. Note if you use Python 2.7, you will need to convert the result of sum, which will be an integer to a `float`, using `float(some_number)`. "
   ]
  },
  {
   "cell_type": "code",
   "execution_count": 76,
   "metadata": {},
   "outputs": [
    {
     "name": "stdout",
     "output_type": "stream",
     "text": [
      "1\n",
      "1.0\n"
     ]
    }
   ],
   "source": [
    "# if you use Python 3.x, both print statements will return \n",
    "# the same thing and you don't need to worry.\n",
    "number = 1\n",
    "print(number)\n",
    "number = float(number)\n",
    "print(number)"
   ]
  },
  {
   "cell_type": "code",
   "execution_count": 81,
   "metadata": {},
   "outputs": [
    {
     "data": {
      "text/plain": [
       "41.11511511511512"
      ]
     },
     "execution_count": 81,
     "metadata": {},
     "output_type": "execute_result"
    }
   ],
   "source": [
    "# insert your code here\n",
    "np.mean([len(night) for night in corpus])"
   ]
  },
  {
   "cell_type": "markdown",
   "metadata": {},
   "source": [
    "---"
   ]
  },
  {
   "cell_type": "markdown",
   "metadata": {},
   "source": [
    "Given our data structure of a list of sentences which are themselves lists of words, it is a little trickier to count for each night how many words it contains. One possible way is the following:"
   ]
  },
  {
   "cell_type": "code",
   "execution_count": 83,
   "metadata": {},
   "outputs": [],
   "source": [
    "words_per_night = []\n",
    "for night in corpus:\n",
    "    n_words = 0\n",
    "    for sentence in night:\n",
    "        n_words += len(sentence)\n",
    "    words_per_night.append(n_words)"
   ]
  },
  {
   "cell_type": "markdown",
   "metadata": {},
   "source": [
    "Make sure you really understand these lines of code as you will need them in the next quiz. "
   ]
  },
  {
   "cell_type": "markdown",
   "metadata": {},
   "source": [
    "The suspense created by Shahrazad’s story-telling skills is intriguing, especially the “cliff-hanger” ending each night which she uses to avert her own execution (and possibly that of womanhood). Every night she tells the Sultan a story only to stop at dawn and she picks up the thread the next night. But does it really take the whole night to tell a particular story?\n",
    "\n",
    "I am not aware of any exact numbers about how many words people speak per minute. Averages seem to fluctuate between 100 and 200 words per minute. Narrators are advised to use approximately 150 words per minute in audiobooks. I suspect that this number is a little lower for live storytelling and assume it lies around 130 words per minute (including pauses). Using this information, we can compute the time it takes to tell a particular story as follows:\n",
    "\n",
    "$$\\textrm{story time}(\\textrm{text}) = \\frac{\\textrm{number of words in text}}{\\textrm{number of words per minute}}$$"
   ]
  },
  {
   "cell_type": "markdown",
   "metadata": {},
   "source": [
    "---"
   ]
  },
  {
   "cell_type": "markdown",
   "metadata": {},
   "source": [
    "#### Quiz!"
   ]
  },
  {
   "cell_type": "markdown",
   "metadata": {},
   "source": [
    "**1)** Write a function called `story_time` that takes as input a text. Given a speed of 130 words per minute, compute how long it takes to tell that text."
   ]
  },
  {
   "cell_type": "code",
   "execution_count": 90,
   "metadata": {},
   "outputs": [
    {
     "name": "stdout",
     "output_type": "stream",
     "text": [
      "True\n"
     ]
    }
   ],
   "source": [
    "def story_time(night):\n",
    "    # insert your code here\n",
    "    num_text = 0\n",
    "    for sentence in night:\n",
    "        num_text += len(sentence)\n",
    "    return num_text/130\n",
    "\n",
    "# these tests should return True if your code is correct\n",
    "print(story_time([[\"story\", \"story\"]]) * 130 == 2.0)"
   ]
  },
  {
   "cell_type": "markdown",
   "metadata": {},
   "source": [
    "**2)** Compute the story_time for each night in our corpus. Assign the result to the variable `story_time_per_night`."
   ]
  },
  {
   "cell_type": "code",
   "execution_count": 91,
   "metadata": {},
   "outputs": [
    {
     "name": "stdout",
     "output_type": "stream",
     "text": [
      "[86.9076923076923, 24.76923076923077, 18.215384615384615, 19.453846153846154, 30.130769230769232, 12.86923076923077, 24.338461538461537, 18.00769230769231, 34.84615384615385, 31.876923076923077]\n"
     ]
    }
   ],
   "source": [
    "story_time_per_night = []\n",
    "# insert your code here\n",
    "for night in corpus:\n",
    "    story_time_per_night.append(story_time(night))\n",
    "print(story_time_per_night[:10])"
   ]
  },
  {
   "cell_type": "markdown",
   "metadata": {},
   "source": [
    "**3**) Compute the average, minimum and maximum story telling time."
   ]
  },
  {
   "cell_type": "code",
   "execution_count": 92,
   "metadata": {},
   "outputs": [
    {
     "name": "stdout",
     "output_type": "stream",
     "text": [
      "9.433541233541234 2.2384615384615385 86.9076923076923\n"
     ]
    }
   ],
   "source": [
    "# insert your code here\n",
    "print(np.mean(story_time_per_night), np.min(story_time_per_night), np.max(story_time_per_night))"
   ]
  },
  {
   "cell_type": "markdown",
   "metadata": {},
   "source": [
    "---"
   ]
  },
  {
   "cell_type": "markdown",
   "metadata": {},
   "source": [
    "### Visualizing general statistics"
   ]
  },
  {
   "cell_type": "markdown",
   "metadata": {},
   "source": [
    "Now that we have computed a range of general statistics for our corpus, it would be nice to visualize them. Python's plotting library *matplotlib* (see [here](http://matplotlib.org)) allows us to produce all kinds of graphs. We could for example, plot for each story, how many sentences it contains:"
   ]
  },
  {
   "cell_type": "code",
   "execution_count": 93,
   "metadata": {},
   "outputs": [
    {
     "data": {
      "text/plain": [
       "[<matplotlib.lines.Line2D at 0x17cb922b548>]"
      ]
     },
     "execution_count": 93,
     "metadata": {},
     "output_type": "execute_result"
    },
    {
     "data": {
      "image/png": "[encoded data removed]",
      "text/plain": [
       "<Figure size 432x288 with 1 Axes>"
      ]
     },
     "metadata": {
      "needs_background": "light"
     },
     "output_type": "display_data"
    }
   ],
   "source": [
    "import matplotlib.pyplot as plt\n",
    "\n",
    "plt.plot(sentences_per_night)"
   ]
  },
  {
   "cell_type": "markdown",
   "metadata": {},
   "source": [
    "---"
   ]
  },
  {
   "cell_type": "markdown",
   "metadata": {},
   "source": [
    "#### Quiz!"
   ]
  },
  {
   "cell_type": "markdown",
   "metadata": {},
   "source": [
    "**1)** Can you do the same for `words_per_night`?"
   ]
  },
  {
   "cell_type": "code",
   "execution_count": 94,
   "metadata": {},
   "outputs": [
    {
     "data": {
      "text/plain": [
       "[<matplotlib.lines.Line2D at 0x17cb9e1dec8>]"
      ]
     },
     "execution_count": 94,
     "metadata": {},
     "output_type": "execute_result"
    },
    {
     "data": {
      "image/png": "[encoded data removed]",
      "text/plain": [
       "<Figure size 432x288 with 1 Axes>"
      ]
     },
     "metadata": {
      "needs_background": "light"
     },
     "output_type": "display_data"
    }
   ],
   "source": [
    "# insert your code here\n",
    "def words_per_night(night):\n",
    "    words_per_sent = [len(sentence) for sentence in night]\n",
    "    return np.sum(words_per_sent)\n",
    "\n",
    "plt.plot([words_per_night(night) for night in corpus])"
   ]
  },
  {
   "cell_type": "code",
   "execution_count": 96,
   "metadata": {},
   "outputs": [
    {
     "data": {
      "text/plain": [
       "[389, 120, 91, 84, 146, 60, 113, 94, 166, 156]"
      ]
     },
     "execution_count": 96,
     "metadata": {},
     "output_type": "execute_result"
    }
   ],
   "source": [
    "sentences_per_night[:10]"
   ]
  },
  {
   "cell_type": "code",
   "execution_count": 98,
   "metadata": {},
   "outputs": [
    {
     "data": {
      "text/plain": [
       "[11298, 3220, 2368, 2529, 3917, 1673, 3164, 2341, 4530, 4144]"
      ]
     },
     "execution_count": 98,
     "metadata": {},
     "output_type": "execute_result"
    }
   ],
   "source": [
    "words = [words_per_night(night) for night in corpus]\n",
    "words[:10]"
   ]
  },
  {
   "cell_type": "code",
   "execution_count": 106,
   "metadata": {},
   "outputs": [
    {
     "name": "stdout",
     "output_type": "stream",
     "text": [
      "29.043701799485863\n",
      "26.833333333333332\n",
      "26.021978021978022\n",
      "30.107142857142858\n",
      "26.828767123287673\n"
     ]
    }
   ],
   "source": [
    "nights = [0,1,2,3,4]\n",
    "for night in nights:\n",
    "    print(words[night] / sentences_per_night[night])"
   ]
  },
  {
   "cell_type": "markdown",
   "metadata": {},
   "source": [
    "**2)** And can you do the same for `story_time_per_night`?"
   ]
  },
  {
   "cell_type": "code",
   "execution_count": 95,
   "metadata": {},
   "outputs": [
    {
     "data": {
      "text/plain": [
       "[<matplotlib.lines.Line2D at 0x17cb9e937c8>]"
      ]
     },
     "execution_count": 95,
     "metadata": {},
     "output_type": "execute_result"
    },
    {
     "data": {
      "image/png": "[encoded data removed]",
      "text/plain": [
       "<Figure size 432x288 with 1 Axes>"
      ]
     },
     "metadata": {
      "needs_background": "light"
     },
     "output_type": "display_data"
    }
   ],
   "source": [
    "# insert your code here\n",
    "plt.plot([words_per_night(night) / 130 for night in corpus])"
   ]
  },
  {
   "cell_type": "markdown",
   "metadata": {},
   "source": [
    "**3)** In this final exercise we will put everything together what we have learnt so far. We want you to write a function `positions_of` that returns for a given word all sentence positions in the *Arabian Nights* where that word occurs. We are not interested in the positions relative to a particular night, but only to the corpus as a whole. Use that function to find all occurences of the name Sharahzad and store the corresponding indexes in the variable `positions_of_shahrazad`. Do the same thing for the name *Ali*. Store the result in `positions_of_ali`. Finally, find all occurences of *Egypt* and store the indexes in `positions_of_egypt`. Tip: (1) remember that we lowercased the entire corpus! (2) remember that indexes start at 0."
   ]
  },
  {
   "cell_type": "code",
   "execution_count": null,
   "metadata": {},
   "outputs": [],
   "source": [
    "def positions_of(word):\n",
    "    #insert your code here\n",
    "    \n",
    "    return \n",
    "\n",
    "positions_of_shahrazad = positions_of(\"shahrazad\")\n",
    "positions_of_ali = positions_of(\"ali\")\n",
    "positions_of_egypt = positions_of(\"egypt\")"
   ]
  },
  {
   "cell_type": "markdown",
   "metadata": {},
   "source": [
    "If everything went well, the following lines of code should produce a nice dispersion plot of all sentence occurences of Shahrazad, Ali and Egypt in the corpus."
   ]
  },
  {
   "cell_type": "code",
   "execution_count": 107,
   "metadata": {},
   "outputs": [
    {
     "ename": "NameError",
     "evalue": "name 'positions_of_shahrazad' is not defined",
     "output_type": "error",
     "traceback": [
      "\u001b[1;31m---------------------------------------------------------------------------\u001b[0m",
      "\u001b[1;31mNameError\u001b[0m                                 Traceback (most recent call last)",
      "\u001b[1;32m<ipython-input-107-518cb5ca94ce>\u001b[0m in \u001b[0;36m<module>\u001b[1;34m\u001b[0m\n\u001b[0;32m      1\u001b[0m \u001b[0mplt\u001b[0m\u001b[1;33m.\u001b[0m\u001b[0mfigure\u001b[0m\u001b[1;33m(\u001b[0m\u001b[0mfigsize\u001b[0m\u001b[1;33m=\u001b[0m\u001b[1;33m(\u001b[0m\u001b[1;36m20\u001b[0m\u001b[1;33m,\u001b[0m \u001b[1;36m8\u001b[0m\u001b[1;33m)\u001b[0m\u001b[1;33m)\u001b[0m\u001b[1;33m\u001b[0m\u001b[1;33m\u001b[0m\u001b[0m\n\u001b[0;32m      2\u001b[0m \u001b[0mnames\u001b[0m \u001b[1;33m=\u001b[0m \u001b[1;33m[\u001b[0m\u001b[1;34m\"Shahrazad\"\u001b[0m\u001b[1;33m,\u001b[0m \u001b[1;34m\"Ali\"\u001b[0m\u001b[1;33m,\u001b[0m \u001b[1;34m\"Egypt\"\u001b[0m\u001b[1;33m]\u001b[0m\u001b[1;33m\u001b[0m\u001b[1;33m\u001b[0m\u001b[0m\n\u001b[1;32m----> 3\u001b[1;33m \u001b[0mplt\u001b[0m\u001b[1;33m.\u001b[0m\u001b[0mplot\u001b[0m\u001b[1;33m(\u001b[0m\u001b[0mpositions_of_shahrazad\u001b[0m\u001b[1;33m,\u001b[0m \u001b[1;33m[\u001b[0m\u001b[1;36m1\u001b[0m\u001b[1;33m]\u001b[0m\u001b[1;33m*\u001b[0m\u001b[0mlen\u001b[0m\u001b[1;33m(\u001b[0m\u001b[0mpositions_of_shahrazad\u001b[0m\u001b[1;33m)\u001b[0m\u001b[1;33m,\u001b[0m \u001b[1;34m\"|\"\u001b[0m\u001b[1;33m,\u001b[0m \u001b[0mmarkersize\u001b[0m\u001b[1;33m=\u001b[0m\u001b[1;36m100\u001b[0m\u001b[1;33m)\u001b[0m\u001b[1;33m\u001b[0m\u001b[1;33m\u001b[0m\u001b[0m\n\u001b[0m\u001b[0;32m      4\u001b[0m \u001b[0mplt\u001b[0m\u001b[1;33m.\u001b[0m\u001b[0mplot\u001b[0m\u001b[1;33m(\u001b[0m\u001b[0mpositions_of_ali\u001b[0m\u001b[1;33m,\u001b[0m \u001b[1;33m[\u001b[0m\u001b[1;36m2\u001b[0m\u001b[1;33m]\u001b[0m\u001b[1;33m*\u001b[0m\u001b[0mlen\u001b[0m\u001b[1;33m(\u001b[0m\u001b[0mpositions_of_ali\u001b[0m\u001b[1;33m)\u001b[0m\u001b[1;33m,\u001b[0m \u001b[1;34m\"|\"\u001b[0m\u001b[1;33m,\u001b[0m \u001b[0mmarkersize\u001b[0m\u001b[1;33m=\u001b[0m\u001b[1;36m100\u001b[0m\u001b[1;33m)\u001b[0m\u001b[1;33m\u001b[0m\u001b[1;33m\u001b[0m\u001b[0m\n\u001b[0;32m      5\u001b[0m \u001b[0mplt\u001b[0m\u001b[1;33m.\u001b[0m\u001b[0mplot\u001b[0m\u001b[1;33m(\u001b[0m\u001b[0mpositions_of_egypt\u001b[0m\u001b[1;33m,\u001b[0m \u001b[1;33m[\u001b[0m\u001b[1;36m0\u001b[0m\u001b[1;33m]\u001b[0m\u001b[1;33m*\u001b[0m\u001b[0mlen\u001b[0m\u001b[1;33m(\u001b[0m\u001b[0mpositions_of_egypt\u001b[0m\u001b[1;33m)\u001b[0m\u001b[1;33m,\u001b[0m \u001b[1;34m\"|\"\u001b[0m\u001b[1;33m,\u001b[0m \u001b[0mmarkersize\u001b[0m\u001b[1;33m=\u001b[0m\u001b[1;36m100\u001b[0m\u001b[1;33m)\u001b[0m\u001b[1;33m\u001b[0m\u001b[1;33m\u001b[0m\u001b[0m\n",
      "\u001b[1;31mNameError\u001b[0m: name 'positions_of_shahrazad' is not defined"
     ]
    },
    {
     "data": {
      "text/plain": [
       "<Figure size 1440x576 with 0 Axes>"
      ]
     },
     "metadata": {},
     "output_type": "display_data"
    }
   ],
   "source": [
    "plt.figure(figsize=(20, 8))\n",
    "names = [\"Shahrazad\", \"Ali\", \"Egypt\"]\n",
    "plt.plot(positions_of_shahrazad, [1]*len(positions_of_shahrazad), \"|\", markersize=100)\n",
    "plt.plot(positions_of_ali, [2]*len(positions_of_ali), \"|\", markersize=100)\n",
    "plt.plot(positions_of_egypt, [0]*len(positions_of_egypt), \"|\", markersize=100)\n",
    "plt.yticks(range(len(names)), names)\n",
    "_ = plt.ylim(-1, 3)"
   ]
  },
  {
   "cell_type": "markdown",
   "metadata": {},
   "source": [
    "---"
   ]
  },
  {
   "cell_type": "markdown",
   "metadata": {},
   "source": [
    "> Then Shahrazad reached the morning, and fell silent in the telling of her tale…"
   ]
  },
  {
   "cell_type": "markdown",
   "metadata": {},
   "source": [
    "---"
   ]
  },
  {
   "cell_type": "markdown",
   "metadata": {},
   "source": [
    "Ignore the following, it's just here to make the page pretty:"
   ]
  },
  {
   "cell_type": "code",
   "execution_count": null,
   "metadata": {},
   "outputs": [],
   "source": [
    "from IPython.core.display import HTML\n",
    "def css_styling():\n",
    "    styles = open(\"styles/custom.css\", \"r\").read()\n",
    "    return HTML(styles)\n",
    "css_styling()"
   ]
  },
  {
   "cell_type": "markdown",
   "metadata": {},
   "source": [
    "---"
   ]
  },
  {
   "cell_type": "markdown",
   "metadata": {},
   "source": [
    "<p><small><a rel=\"license\" href=\"http://creativecommons.org/licenses/by-sa/4.0/\"><img alt=\"Creative Commons License\" style=\"border-width:0\" src=\"https://i.creativecommons.org/l/by-sa/4.0/88x31.png\" /></a><br /><span xmlns:dct=\"http://purl.org/dc/terms/\" property=\"dct:title\">Python Programming for the Humanities</span> by <a xmlns:cc=\"http://creativecommons.org/ns#\" href=\"http://fbkarsdorp.github.io/python-course\" property=\"cc:attributionName\" rel=\"cc:attributionURL\">http://fbkarsdorp.github.io/python-course</a> is licensed under a <a rel=\"license\" href=\"http://creativecommons.org/licenses/by-sa/4.0/\">Creative Commons Attribution-ShareAlike 4.0 International License</a>. Based on a work at <a xmlns:dct=\"http://purl.org/dc/terms/\" href=\"https://github.com/fbkarsdorp/python-course\" rel=\"dct:source\">https://github.com/fbkarsdorp/python-course</a>.</small></p>"
   ]
  }
 ],
 "metadata": {
  "kernelspec": {
   "display_name": "Python 3",
   "language": "python",
   "name": "python3"
  },
  "language_info": {
   "codemirror_mode": {
    "name": "ipython",
    "version": 3
   },
   "file_extension": ".py",
   "mimetype": "text/x-python",
   "name": "python",
   "nbconvert_exporter": "python",
   "pygments_lexer": "ipython3",
   "version": "3.7.9"
  }
 },
 "nbformat": 4,
 "nbformat_minor": 1
}
